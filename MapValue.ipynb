{
 "cells": [
  {
   "cell_type": "code",
   "execution_count": 1,
   "metadata": {},
   "outputs": [
    {
     "data": {
      "text/html": [
       "Installed package Microsoft.ML version 1.5.5"
      ]
     },
     "metadata": {},
     "output_type": "display_data"
    }
   ],
   "source": [
    "#r \"nuget: Microsoft.ML\"\n",
    "using Microsoft.ML;"
   ]
  },
  {
   "cell_type": "markdown",
   "metadata": {},
   "source": [
    "This example comes from the ML.NET documentation: https://docs.microsoft.com/en-us/dotnet/api/microsoft.ml.conversionsextensionscatalog.mapvalue?view=ml-dotnet"
   ]
  },
  {
   "cell_type": "code",
   "execution_count": 2,
   "metadata": {},
   "outputs": [],
   "source": [
    "class LookupMap\n",
    "{\n",
    "    public float Value { get; set; }\n",
    "    public string Category { get; set; }\n",
    "}\n",
    "\n",
    "class DataPoint\n",
    "{\n",
    "    public float Price { get; set; }\n",
    "}\n",
    "\n",
    "class TransformedData : DataPoint\n",
    "{\n",
    "    public string PriceCategory { get; set; }\n",
    "}"
   ]
  },
  {
   "cell_type": "code",
   "execution_count": 3,
   "metadata": {},
   "outputs": [],
   "source": [
    "var mlContext = new MLContext();"
   ]
  },
  {
   "cell_type": "code",
   "execution_count": 4,
   "metadata": {},
   "outputs": [],
   "source": [
    "var rawData = new[] {\n",
    "    new DataPoint() { Price = 3.14f },\n",
    "    new DataPoint() { Price = 2000f },\n",
    "    new DataPoint() { Price = 1.19f },\n",
    "    new DataPoint() { Price = 2.17f },\n",
    "    new DataPoint() { Price = 33.784f },\n",
    "\n",
    "};"
   ]
  },
  {
   "cell_type": "code",
   "execution_count": 5,
   "metadata": {},
   "outputs": [],
   "source": [
    "var data = mlContext.Data.LoadFromEnumerable(rawData);"
   ]
  },
  {
   "cell_type": "code",
   "execution_count": 6,
   "metadata": {},
   "outputs": [],
   "source": [
    "var lookupData = new[] {\n",
    "    new LookupMap { Value = 3.14f, Category = \"Low\" },\n",
    "    new LookupMap { Value = 1.19f , Category = \"Low\" },\n",
    "    new LookupMap { Value = 2.17f , Category = \"Low\" },\n",
    "    new LookupMap { Value = 33.784f, Category = \"Medium\" },\n",
    "    new LookupMap { Value = 2000f, Category = \"High\"}\n",
    "\n",
    "};"
   ]
  },
  {
   "cell_type": "code",
   "execution_count": 7,
   "metadata": {},
   "outputs": [],
   "source": [
    "var lookupIdvMap = mlContext.Data.LoadFromEnumerable(lookupData);"
   ]
  },
  {
   "cell_type": "code",
   "execution_count": 8,
   "metadata": {},
   "outputs": [],
   "source": [
    "var pipeline = mlContext.Transforms.Conversion.MapValue(\n",
    "    \"PriceCategory\",\n",
    "    lookupIdvMap,\n",
    "    lookupIdvMap.Schema[\"Value\"],\n",
    "    lookupIdvMap.Schema[\"Category\"],\n",
    "    \"Price\"\n",
    ");"
   ]
  },
  {
   "cell_type": "code",
   "execution_count": 9,
   "metadata": {},
   "outputs": [],
   "source": [
    "IDataView transformedData = pipeline.Fit(data).Transform(data);"
   ]
  },
  {
   "cell_type": "code",
   "execution_count": 10,
   "metadata": {},
   "outputs": [
    {
     "data": {
      "text/html": [
       "<table><thead><tr><th><i>index</i></th><th>PriceCategory</th><th>Price</th></tr></thead><tbody><tr><td>0</td><td>Low</td><td>3.14</td></tr><tr><td>1</td><td>High</td><td>2000</td></tr><tr><td>2</td><td>Low</td><td>1.19</td></tr><tr><td>3</td><td>Low</td><td>2.17</td></tr><tr><td>4</td><td>Medium</td><td>33.784</td></tr></tbody></table>"
      ]
     },
     "execution_count": 10,
     "metadata": {},
     "output_type": "execute_result"
    }
   ],
   "source": [
    "mlContext.Data.CreateEnumerable<TransformedData>(transformedData, reuseRowObject: false)"
   ]
  }
 ],
 "metadata": {
  "kernelspec": {
   "display_name": ".NET (C#)",
   "language": "C#",
   "name": ".net-csharp"
  },
  "language_info": {
   "file_extension": ".cs",
   "mimetype": "text/x-csharp",
   "name": "C#",
   "pygments_lexer": "csharp",
   "version": "8.0"
  }
 },
 "nbformat": 4,
 "nbformat_minor": 4
}

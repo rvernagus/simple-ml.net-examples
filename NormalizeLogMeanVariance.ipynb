{
 "cells": [
  {
   "cell_type": "code",
   "execution_count": 1,
   "metadata": {},
   "outputs": [
    {
     "data": {
      "text/html": [
       "Installed package Microsoft.ML version 1.5.5"
      ]
     },
     "metadata": {},
     "output_type": "display_data"
    }
   ],
   "source": [
    "#r \"nuget: Microsoft.ML\"\n",
    "using Microsoft.ML;\n",
    "using Microsoft.ML.Data;\n",
    "using System.Linq;\n",
    "using static Microsoft.ML.Transforms.NormalizingTransformer;"
   ]
  },
  {
   "cell_type": "markdown",
   "metadata": {},
   "source": [
    "This example comes from the ML.NET documentation: https://docs.microsoft.com/en-us/dotnet/api/microsoft.ml.normalizationcatalog.normalizelogmeanvariance?view=ml-dotnet"
   ]
  },
  {
   "cell_type": "code",
   "execution_count": 2,
   "metadata": {},
   "outputs": [],
   "source": [
    "class DataPoint\n",
    "{\n",
    "    [VectorType(5)]\n",
    "    public float[] Features { get; set; }\n",
    "}"
   ]
  },
  {
   "cell_type": "code",
   "execution_count": 3,
   "metadata": {},
   "outputs": [],
   "source": [
    "var mlContext = new MLContext();"
   ]
  },
  {
   "cell_type": "code",
   "execution_count": 4,
   "metadata": {},
   "outputs": [],
   "source": [
    "var samples = new List<DataPoint>()\n",
    "{\n",
    "    new DataPoint(){ Features = new float[5] { 1, 1, 3, 0, float.MaxValue } },\n",
    "    new DataPoint(){ Features = new float[5] { 2, 2, 2, 0, float.MinValue } },\n",
    "    new DataPoint(){ Features = new float[5] { 0, 0, 1, 0, 0} },\n",
    "    new DataPoint(){ Features = new float[5] {-1,-1,-1, 1, 1} }\n",
    "};"
   ]
  },
  {
   "cell_type": "code",
   "execution_count": 5,
   "metadata": {},
   "outputs": [],
   "source": [
    "var data = mlContext.Data.LoadFromEnumerable(samples);"
   ]
  },
  {
   "cell_type": "markdown",
   "metadata": {},
   "source": [
    "NormalizeLogMeanVariance normalizes the data based on the computed mean and variance of the logarithm of the data. Uses Cumulative distribution function as output."
   ]
  },
  {
   "cell_type": "code",
   "execution_count": 6,
   "metadata": {},
   "outputs": [],
   "source": [
    "var normalize = mlContext.Transforms.NormalizeLogMeanVariance(\"Features\", useCdf: true);"
   ]
  },
  {
   "cell_type": "markdown",
   "metadata": {},
   "source": [
    "NormalizeLogMeanVariance normalizes the data based on the computed mean and variance of the logarithm of the data."
   ]
  },
  {
   "cell_type": "code",
   "execution_count": 8,
   "metadata": {},
   "outputs": [],
   "source": [
    "var normalizeNoCdf = mlContext.Transforms.NormalizeLogMeanVariance(\"Features\", useCdf: false);"
   ]
  },
  {
   "cell_type": "code",
   "execution_count": 11,
   "metadata": {},
   "outputs": [],
   "source": [
    "var normalizeTransform = normalize.Fit(data);\n",
    "var transformedData = normalizeTransform.Transform(data);\n",
    "var normalizeNoCdfTransform = normalizeNoCdf.Fit(data);\n",
    "var noCdfData = normalizeNoCdfTransform.Transform(data);"
   ]
  },
  {
   "cell_type": "code",
   "execution_count": 12,
   "metadata": {},
   "outputs": [
    {
     "data": {
      "text/html": [
       "<table><thead><tr><th><i>index</i></th><th>value</th></tr></thead><tbody><tr><td>0</td><td>[ 0.15869737, 0.15869737, 0.8654407, 0, 0.84130263 ]</td></tr><tr><td>1</td><td>[ 0.84130263, 0.84130263, 0.58371305, 0, 0 ]</td></tr><tr><td>2</td><td>[ 0, 0, 0.09399668, 0, 0 ]</td></tr><tr><td>3</td><td>[ 0, 0, 0, 0, 0.15869737 ]</td></tr></tbody></table>"
      ]
     },
     "execution_count": 12,
     "metadata": {},
     "output_type": "execute_result"
    }
   ],
   "source": [
    "transformedData.GetColumn<float[]>(\"Features\")"
   ]
  },
  {
   "cell_type": "code",
   "execution_count": 10,
   "metadata": {},
   "outputs": [
    {
     "data": {
      "text/html": [
       "<table><thead><tr><th><i>index</i></th><th>value</th></tr></thead><tbody><tr><td>0</td><td>[ 1.88539, 1.88539, 5.2970223, 0, 7.670682E+36 ]</td></tr><tr><td>1</td><td>[ 4.77078, 4.77078, 3.0924528, 0, -7.670682E+36 ]</td></tr><tr><td>2</td><td>[ -1, -1, 0.88788337, 0, -1 ]</td></tr><tr><td>3</td><td>[ -3.88539, -3.88539, -3.5212553, 0, -0.9774579 ]</td></tr></tbody></table>"
      ]
     },
     "execution_count": 10,
     "metadata": {},
     "output_type": "execute_result"
    }
   ],
   "source": [
    "noCdfData.GetColumn<float[]>(\"Features\")"
   ]
  },
  {
   "cell_type": "markdown",
   "metadata": {},
   "source": [
    "Let's get transformation parameters. Since we work with only one column we need to pass 0 as parameter for GetNormalizerModelParameters. If we have multiple columns transformations we need to pass index of InputOutputColumnPair."
   ]
  },
  {
   "cell_type": "code",
   "execution_count": 13,
   "metadata": {},
   "outputs": [
    {
     "data": {
      "text/html": [
       "<table><thead><tr><th>Mean</th><th>StandardDeviation</th><th>UseLog</th></tr></thead><tbody><tr><td>[ 0.3465736, 0.3465736, 0.59725314, 0, 44.36142 ]</td><td>[ 0.3465736, 0.3465736, 0.45360336, 0, 44.36142 ]</td><td>True</td></tr></tbody></table>"
      ]
     },
     "execution_count": 13,
     "metadata": {},
     "output_type": "execute_result"
    }
   ],
   "source": [
    "normalizeTransform.GetNormalizerModelParameters(0)"
   ]
  },
  {
   "cell_type": "markdown",
   "metadata": {},
   "source": [
    "ERF is https://en.wikipedia.org/wiki/Error_function.\n",
    "\n",
    "Expected output:\n",
    "- The 1-index value in resulting array would be produce by:\n",
    " - y = 0.5* (1 + ERF((Math.Log(x)- 0.3465736) / (0.3465736 * sqrt(2)))"
   ]
  },
  {
   "cell_type": "code",
   "execution_count": 14,
   "metadata": {},
   "outputs": [
    {
     "data": {
      "text/html": [
       "<table><thead><tr><th>Scale</th><th>Offset</th></tr></thead><tbody><tr><td>[ 2.88539, 2.88539, 2.2045693, 0, 0.02254211 ]</td><td>[ 0.3465736, 0.3465736, 0.59725314, 0, 44.36142 ]</td></tr></tbody></table>"
      ]
     },
     "execution_count": 14,
     "metadata": {},
     "output_type": "execute_result"
    }
   ],
   "source": [
    "normalizeNoCdfTransform.GetNormalizerModelParameters(0)"
   ]
  }
 ],
 "metadata": {
  "kernelspec": {
   "display_name": ".NET (C#)",
   "language": "C#",
   "name": ".net-csharp"
  },
  "language_info": {
   "file_extension": ".cs",
   "mimetype": "text/x-csharp",
   "name": "C#",
   "pygments_lexer": "csharp",
   "version": "8.0"
  }
 },
 "nbformat": 4,
 "nbformat_minor": 4
}

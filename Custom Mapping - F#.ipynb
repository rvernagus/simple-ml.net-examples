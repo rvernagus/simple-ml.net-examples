{
 "cells": [
  {
   "cell_type": "code",
   "execution_count": 1,
   "metadata": {},
   "outputs": [
    {
     "data": {
      "text/html": [
       "Installed package Microsoft.ML version *"
      ]
     },
     "metadata": {},
     "output_type": "display_data"
    }
   ],
   "source": [
    "#r \"nuget: Microsoft.ML\"\n",
    "open Microsoft.ML\n",
    "open System"
   ]
  },
  {
   "cell_type": "markdown",
   "metadata": {},
   "source": [
    "Create classes to map data to:"
   ]
  },
  {
   "cell_type": "code",
   "execution_count": 2,
   "metadata": {},
   "outputs": [],
   "source": [
    "[<CLIMutable>]\n",
    "type SourceData =\n",
    "    {\n",
    "        Date: DateTime\n",
    "    }\n",
    "\n",
    "[<CLIMutable>]\n",
    "type MappedData =\n",
    "    {\n",
    "        mutable SourceDate: DateTime\n",
    "\n",
    "        mutable Month: int\n",
    "\n",
    "        mutable IsWeekend: bool\n",
    "    }"
   ]
  },
  {
   "cell_type": "markdown",
   "metadata": {},
   "source": [
    "Instantiate a new MLContext and create some sample data:"
   ]
  },
  {
   "cell_type": "code",
   "execution_count": 3,
   "metadata": {},
   "outputs": [
    {
     "data": {
      "text/html": [
       "<table><thead><tr><th><i>index</i></th><th>Date</th></tr></thead><tbody><tr><td>0</td><td>2019-08-20 00:00:00Z</td></tr><tr><td>1</td><td>2019-07-06 00:00:00Z</td></tr><tr><td>2</td><td>2019-06-16 00:00:00Z</td></tr><tr><td>3</td><td>2019-05-14 00:00:00Z</td></tr></tbody></table>"
      ]
     },
     "execution_count": 3,
     "metadata": {},
     "output_type": "execute_result"
    }
   ],
   "source": [
    "let context = new MLContext()\n",
    "\n",
    "let data =\n",
    "    [\n",
    "        { Date = DateTime.Parse(\"2019-08-20\") }\n",
    "        { Date = DateTime.Parse(\"2019-07-06\") }\n",
    "        { Date = DateTime.Parse(\"2019-06-16\") }\n",
    "        { Date = DateTime.Parse(\"2019-05-14\") }\n",
    "    ]\n",
    "data"
   ]
  },
  {
   "cell_type": "markdown",
   "metadata": {},
   "source": [
    "Create a new DataView from the sample data:"
   ]
  },
  {
   "cell_type": "code",
   "execution_count": 4,
   "metadata": {},
   "outputs": [],
   "source": [
    "let dataView = context.Data.LoadFromEnumerable<SourceData>(data)"
   ]
  },
  {
   "cell_type": "markdown",
   "metadata": {},
   "source": [
    "Here is where we define a CustomMapping to map from SourceData to MappedData:"
   ]
  },
  {
   "cell_type": "code",
   "execution_count": 5,
   "metadata": {},
   "outputs": [],
   "source": [
    "let mapper source mapped =\n",
    "    mapped.SourceDate <- source.Date\n",
    "    mapped.Month <- source.Date.Month\n",
    "    mapped.IsWeekend <- source.Date.DayOfWeek = DayOfWeek.Saturday || source.Date.DayOfWeek = DayOfWeek.Sunday\n",
    "let mapperAction = new Action<SourceData, MappedData>(mapper)"
   ]
  },
  {
   "cell_type": "markdown",
   "metadata": {},
   "source": [
    "Fit the encoder to our data:"
   ]
  },
  {
   "cell_type": "code",
   "execution_count": 6,
   "metadata": {},
   "outputs": [],
   "source": [
    "let encoder = context.Transforms.CustomMapping(mapperAction, \"MapDate\")"
   ]
  },
  {
   "cell_type": "markdown",
   "metadata": {},
   "source": [
    "Transform our data using the fitted transformer:"
   ]
  },
  {
   "cell_type": "code",
   "execution_count": 7,
   "metadata": {},
   "outputs": [],
   "source": [
    "let transformer = encoder.Fit(dataView)"
   ]
  },
  {
   "cell_type": "markdown",
   "metadata": {},
   "source": [
    "Transform our data using the fitted transformer:"
   ]
  },
  {
   "cell_type": "code",
   "execution_count": 8,
   "metadata": {},
   "outputs": [],
   "source": [
    "let transformedDataView = transformer.Transform(dataView)"
   ]
  },
  {
   "cell_type": "markdown",
   "metadata": {},
   "source": [
    "Print our transformed data:"
   ]
  },
  {
   "cell_type": "code",
   "execution_count": 9,
   "metadata": {},
   "outputs": [
    {
     "data": {
      "text/html": [
       "<table><thead><tr><th><i>index</i></th><th>SourceDate</th><th>Month</th><th>IsWeekend</th><th>SourceDate@</th><th>Month@</th><th>IsWeekend@</th></tr></thead><tbody><tr><td>0</td><td>2019-08-20 00:00:00Z</td><td>8</td><td>False</td><td>2019-08-20 00:00:00Z</td><td>8</td><td>False</td></tr><tr><td>1</td><td>2019-07-06 00:00:00Z</td><td>7</td><td>True</td><td>2019-07-06 00:00:00Z</td><td>7</td><td>True</td></tr><tr><td>2</td><td>2019-06-16 00:00:00Z</td><td>6</td><td>True</td><td>2019-06-16 00:00:00Z</td><td>6</td><td>True</td></tr><tr><td>3</td><td>2019-05-14 00:00:00Z</td><td>5</td><td>False</td><td>2019-05-14 00:00:00Z</td><td>5</td><td>False</td></tr></tbody></table>"
      ]
     },
     "execution_count": 9,
     "metadata": {},
     "output_type": "execute_result"
    }
   ],
   "source": [
    "context.Data.CreateEnumerable<MappedData>(transformedDataView, reuseRowObject = true)"
   ]
  },
  {
   "cell_type": "code",
   "execution_count": null,
   "metadata": {},
   "outputs": [],
   "source": []
  }
 ],
 "metadata": {
  "kernelspec": {
   "display_name": ".NET (F#)",
   "language": "F#",
   "name": ".net-fsharp"
  },
  "language_info": {
   "file_extension": ".fs",
   "mimetype": "text/x-fsharp",
   "name": "C#",
   "pygments_lexer": "fsharp",
   "version": "4.5"
  }
 },
 "nbformat": 4,
 "nbformat_minor": 4
}

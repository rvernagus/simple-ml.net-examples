{
 "cells": [
  {
   "cell_type": "code",
   "execution_count": 1,
   "metadata": {},
   "outputs": [
    {
     "data": {
      "text/html": [
       "Installed package Microsoft.ML version *"
      ]
     },
     "metadata": {},
     "output_type": "display_data"
    }
   ],
   "source": [
    "#r \"nuget: Microsoft.ML\"\n",
    "open Microsoft.ML\n",
    "open System"
   ]
  },
  {
   "cell_type": "markdown",
   "metadata": {},
   "source": [
    "Create classes to map data to:"
   ]
  },
  {
   "cell_type": "code",
   "execution_count": 2,
   "metadata": {},
   "outputs": [],
   "source": [
    "[<CLIMutable>]\n",
    "type SourceData =\n",
    "    {\n",
    "        Date: DateTime\n",
    "    }\n",
    "\n",
    "[<CLIMutable>]\n",
    "type MappedData =\n",
    "    {\n",
    "        mutable SourceDate: DateTime\n",
    "\n",
    "        mutable Month: int\n",
    "\n",
    "        mutable IsWeekend: bool\n",
    "    }"
   ]
  },
  {
   "cell_type": "markdown",
   "metadata": {},
   "source": [
    "Instantiate a new MLContext and create some sample data:"
   ]
  },
  {
   "cell_type": "code",
   "execution_count": 3,
   "metadata": {},
   "outputs": [],
   "source": [
    "let context = new MLContext()\n",
    "\n",
    "let data =\n",
    "    [\n",
    "        { Date = DateTime.Parse(\"2019-08-20\") }\n",
    "        { Date = DateTime.Parse(\"2019-07-06\") }\n",
    "        { Date = DateTime.Parse(\"2019-06-16\") }\n",
    "        { Date = DateTime.Parse(\"2019-05-14\") }\n",
    "    ]"
   ]
  },
  {
   "cell_type": "markdown",
   "metadata": {},
   "source": [
    "Create a new DataView from the sample data:"
   ]
  },
  {
   "cell_type": "code",
   "execution_count": 4,
   "metadata": {},
   "outputs": [],
   "source": [
    "let dataView = context.Data.LoadFromEnumerable<SourceData>(data)"
   ]
  },
  {
   "cell_type": "markdown",
   "metadata": {},
   "source": [
    "Here is where we define a CustomMapping to map from SourceData to MappedData:"
   ]
  },
  {
   "cell_type": "code",
   "execution_count": 5,
   "metadata": {},
   "outputs": [],
   "source": [
    "let mapper source mapped =\n",
    "    mapped.SourceDate <- source.Date\n",
    "    mapped.Month <- source.Date.Month\n",
    "    mapped.IsWeekend <- source.Date.DayOfWeek = DayOfWeek.Saturday || source.Date.DayOfWeek = DayOfWeek.Sunday\n",
    "let mapperAction = new Action<SourceData, MappedData>(mapper)"
   ]
  },
  {
   "cell_type": "markdown",
   "metadata": {},
   "source": [
    "Fit the encoder to our data:"
   ]
  },
  {
   "cell_type": "code",
   "execution_count": 6,
   "metadata": {},
   "outputs": [],
   "source": [
    "let encoder = context.Transforms.CustomMapping(mapperAction, \"MapDate\")"
   ]
  },
  {
   "cell_type": "markdown",
   "metadata": {},
   "source": [
    "Transform our data using the fitted transformer:"
   ]
  },
  {
   "cell_type": "code",
   "execution_count": 7,
   "metadata": {},
   "outputs": [],
   "source": [
    "let transformer = encoder.Fit(dataView)"
   ]
  },
  {
   "cell_type": "markdown",
   "metadata": {},
   "source": [
    "Transform our data using the fitted transformer:"
   ]
  },
  {
   "cell_type": "code",
   "execution_count": 8,
   "metadata": {},
   "outputs": [],
   "source": [
    "let transformedDataView = transformer.Transform(dataView)"
   ]
  },
  {
   "cell_type": "markdown",
   "metadata": {},
   "source": [
    "Print our transformed data:"
   ]
  },
  {
   "cell_type": "code",
   "execution_count": 9,
   "metadata": {},
   "outputs": [
    {
     "name": "stdout",
     "output_type": "stream",
     "text": [
      "{ SourceDate = 8/20/2019 12:00:00 AM\n",
      "  Month = 8\n",
      "  IsWeekend = false }\n",
      "{ SourceDate = 7/6/2019 12:00:00 AM\n",
      "  Month = 7\n",
      "  IsWeekend = true }\n",
      "{ SourceDate = 6/16/2019 12:00:00 AM\n",
      "  Month = 6\n",
      "  IsWeekend = true }\n",
      "{ SourceDate = 5/14/2019 12:00:00 AM\n",
      "  Month = 5\n",
      "  IsWeekend = false }\n"
     ]
    },
    {
     "data": {
      "text/html": [
       "<null>"
      ]
     },
     "execution_count": 9,
     "metadata": {},
     "output_type": "execute_result"
    }
   ],
   "source": [
    "let mappedData = context.Data.CreateEnumerable<MappedData>(transformedDataView, reuseRowObject = true)\n",
    "\n",
    "mappedData\n",
    "|> Seq.iter (printfn \"%A\")"
   ]
  },
  {
   "cell_type": "code",
   "execution_count": null,
   "metadata": {},
   "outputs": [],
   "source": []
  }
 ],
 "metadata": {
  "kernelspec": {
   "display_name": ".NET (F#)",
   "language": "F#",
   "name": ".net-fsharp"
  },
  "language_info": {
   "file_extension": ".fs",
   "mimetype": "text/x-fsharp",
   "name": "C#",
   "pygments_lexer": "fsharp",
   "version": "4.5"
  }
 },
 "nbformat": 4,
 "nbformat_minor": 4
}

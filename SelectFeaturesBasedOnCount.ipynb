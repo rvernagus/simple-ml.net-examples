{
 "cells": [
  {
   "cell_type": "code",
   "execution_count": 1,
   "metadata": {},
   "outputs": [
    {
     "data": {
      "text/html": [
       "Installed package Microsoft.ML version 1.5.5"
      ]
     },
     "metadata": {},
     "output_type": "display_data"
    }
   ],
   "source": [
    "#r \"nuget: Microsoft.ML\"\n",
    "using Microsoft.ML;\n",
    "using Microsoft.ML.Data;"
   ]
  },
  {
   "cell_type": "markdown",
   "metadata": {},
   "source": [
    "This example comes from the ML.NET documentation: https://docs.microsoft.com/en-us/dotnet/api/microsoft.ml.featureselectioncatalog.selectfeaturesbasedoncount?view=ml-dotnet"
   ]
  },
  {
   "cell_type": "code",
   "execution_count": 2,
   "metadata": {},
   "outputs": [],
   "source": [
    "class TransformedData\n",
    "{\n",
    "    public float[] NumericVector { get; set; }\n",
    "\n",
    "    public string[] StringVector { get; set; }\n",
    "}\n",
    "\n",
    "class InputData\n",
    "{\n",
    "    [VectorType(3)]\n",
    "    public float[] NumericVector { get; set; }\n",
    "\n",
    "    [VectorType(3)]\n",
    "    public string[] StringVector { get; set; }\n",
    "}"
   ]
  },
  {
   "cell_type": "code",
   "execution_count": 3,
   "metadata": {},
   "outputs": [],
   "source": [
    "static IEnumerable<InputData> GetData()\n",
    "{\n",
    "    var data = new List<InputData>\n",
    "    {\n",
    "        new InputData\n",
    "        {\n",
    "            NumericVector = new float[] { 4, float.NaN, 6 },\n",
    "            StringVector = new string[] { \"A\", \"WA\", \"Male\"}\n",
    "        },\n",
    "        new InputData\n",
    "        {\n",
    "            NumericVector = new float[] { 4, 5, 6 },\n",
    "            StringVector = new string[] { \"A\", \"\", \"Female\"}\n",
    "        },\n",
    "        new InputData\n",
    "        {\n",
    "            NumericVector = new float[] { 4, 5, 6 },\n",
    "            StringVector = new string[] { \"A\", \"NY\", null}\n",
    "        },\n",
    "        new InputData\n",
    "        {\n",
    "            NumericVector = new float[] { 4, float.NaN, float.NaN },\n",
    "            StringVector = new string[] { \"A\", null, \"Male\"}\n",
    "        }\n",
    "    };\n",
    "    return data;\n",
    "}"
   ]
  },
  {
   "cell_type": "code",
   "execution_count": 4,
   "metadata": {},
   "outputs": [],
   "source": [
    "var mlContext = new MLContext();"
   ]
  },
  {
   "cell_type": "code",
   "execution_count": 7,
   "metadata": {},
   "outputs": [
    {
     "data": {
      "text/html": [
       "<table><thead><tr><th><i>index</i></th><th>NumericVector</th><th>StringVector</th></tr></thead><tbody><tr><td>0</td><td>[ 4, NaN, 6 ]</td><td>[ A, WA, Male ]</td></tr><tr><td>1</td><td>[ 4, 5, 6 ]</td><td>[ A, , Female ]</td></tr><tr><td>2</td><td>[ 4, 5, 6 ]</td><td>[ A, NY, &lt;null&gt; ]</td></tr><tr><td>3</td><td>[ 4, NaN, NaN ]</td><td>[ A, &lt;null&gt;, Male ]</td></tr></tbody></table>"
      ]
     },
     "execution_count": 7,
     "metadata": {},
     "output_type": "execute_result"
    }
   ],
   "source": [
    "var rawData = GetData();\n",
    "rawData"
   ]
  },
  {
   "cell_type": "code",
   "execution_count": 8,
   "metadata": {},
   "outputs": [],
   "source": [
    "var data = mlContext.Data.LoadFromEnumerable(rawData);"
   ]
  },
  {
   "cell_type": "markdown",
   "metadata": {},
   "source": [
    "We will use the SelectFeaturesBasedOnCount transform estimator, to retain only those slots which have at least 'count' non-default values per slot.\n",
    "\n",
    "Multi column example. This pipeline transform two columns using the provided parameters."
   ]
  },
  {
   "cell_type": "code",
   "execution_count": 9,
   "metadata": {},
   "outputs": [],
   "source": [
    "var pipeline = mlContext.Transforms.FeatureSelection\n",
    "    .SelectFeaturesBasedOnCount(\n",
    "        new InputOutputColumnPair[] {\n",
    "            new InputOutputColumnPair(\"NumericVector\"),\n",
    "            new InputOutputColumnPair(\"StringVector\")\n",
    "        }, \n",
    "        count: 3\n",
    "    );"
   ]
  },
  {
   "cell_type": "code",
   "execution_count": 10,
   "metadata": {},
   "outputs": [],
   "source": [
    "var transformedData = pipeline.Fit(data).Transform(data);"
   ]
  },
  {
   "cell_type": "code",
   "execution_count": 13,
   "metadata": {},
   "outputs": [
    {
     "data": {
      "text/html": [
       "<table><thead><tr><th><i>index</i></th><th>NumericVector</th><th>StringVector</th></tr></thead><tbody><tr><td>0</td><td>[ 4, 6 ]</td><td>[ A, Male ]</td></tr><tr><td>1</td><td>[ 4, 6 ]</td><td>[ A, Female ]</td></tr><tr><td>2</td><td>[ 4, 6 ]</td><td>[ A,  ]</td></tr><tr><td>3</td><td>[ 4, NaN ]</td><td>[ A, Male ]</td></tr></tbody></table>"
      ]
     },
     "execution_count": 13,
     "metadata": {},
     "output_type": "execute_result"
    }
   ],
   "source": [
    "mlContext.Data.CreateEnumerable<TransformedData>(transformedData, reuseRowObject: false)"
   ]
  }
 ],
 "metadata": {
  "kernelspec": {
   "display_name": ".NET (C#)",
   "language": "C#",
   "name": ".net-csharp"
  },
  "language_info": {
   "file_extension": ".cs",
   "mimetype": "text/x-csharp",
   "name": "C#",
   "pygments_lexer": "csharp",
   "version": "8.0"
  }
 },
 "nbformat": 4,
 "nbformat_minor": 4
}

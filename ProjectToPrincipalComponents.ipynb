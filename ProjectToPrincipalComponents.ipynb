{
 "cells": [
  {
   "cell_type": "code",
   "execution_count": 1,
   "metadata": {},
   "outputs": [
    {
     "data": {
      "text/html": [
       "Installed package Microsoft.ML version 1.5.5"
      ]
     },
     "metadata": {},
     "output_type": "display_data"
    }
   ],
   "source": [
    "#r \"nuget: Microsoft.ML\"\n",
    "using Microsoft.ML;\n",
    "using Microsoft.ML.Data;\n",
    "using Microsoft.ML.Transforms;"
   ]
  },
  {
   "cell_type": "code",
   "execution_count": 2,
   "metadata": {},
   "outputs": [],
   "source": [
    "class DataPoint\n",
    "{\n",
    "    [VectorType(7)]\n",
    "    public float[] Features { get; set; }\n",
    "}"
   ]
  },
  {
   "cell_type": "code",
   "execution_count": 3,
   "metadata": {},
   "outputs": [],
   "source": [
    "var mlContext = new MLContext();"
   ]
  },
  {
   "cell_type": "code",
   "execution_count": 4,
   "metadata": {},
   "outputs": [],
   "source": [
    "var samples = new List<DataPoint>()\n",
    "{\n",
    "    new DataPoint(){ Features = new float[7] { 1, 1, 0, 0, 1, 0, 1} },\n",
    "    new DataPoint(){ Features = new float[7] { 0, 0, 1, 0, 0, 1, 1} },\n",
    "    new DataPoint(){ Features = new float[7] {-1, 1, 0,-1,-1, 0,-1} },\n",
    "    new DataPoint(){ Features = new float[7] { 0,-1, 0, 1, 0,-1,-1} }\n",
    "};"
   ]
  },
  {
   "cell_type": "code",
   "execution_count": 5,
   "metadata": {},
   "outputs": [],
   "source": [
    "var data = mlContext.Data.LoadFromEnumerable(samples);"
   ]
  },
  {
   "cell_type": "code",
   "execution_count": 8,
   "metadata": {},
   "outputs": [],
   "source": [
    "var pca = mlContext.Transforms.ProjectToPrincipalComponents(\"Features\", rank: 4, seed: 1);"
   ]
  },
  {
   "cell_type": "code",
   "execution_count": 9,
   "metadata": {},
   "outputs": [],
   "source": [
    "var tansformer = pca.Fit(data);\n",
    "var transformedData = tansformer.Transform(data);"
   ]
  },
  {
   "cell_type": "code",
   "execution_count": 10,
   "metadata": {},
   "outputs": [
    {
     "data": {
      "text/html": [
       "<table><thead><tr><th><i>index</i></th><th>value</th></tr></thead><tbody><tr><td>0</td><td>[ -1.578007, 0.25911784, -1.0057895, 0.038012236 ]</td></tr><tr><td>1</td><td>[ -1.1136656, -0.19722068, 1.1327876, 0.08916333 ]</td></tr><tr><td>2</td><td>[ 1.3913586, -1.6117526, -0.17998786, 0.06547934 ]</td></tr><tr><td>3</td><td>[ 1.3881912, 1.695941, 0.05767651, 0.1170001 ]</td></tr></tbody></table>"
      ]
     },
     "execution_count": 10,
     "metadata": {},
     "output_type": "execute_result"
    }
   ],
   "source": [
    "transformedData.GetColumn<float[]>(\"Features\")"
   ]
  }
 ],
 "metadata": {
  "kernelspec": {
   "display_name": ".NET (C#)",
   "language": "C#",
   "name": ".net-csharp"
  },
  "language_info": {
   "file_extension": ".cs",
   "mimetype": "text/x-csharp",
   "name": "C#",
   "pygments_lexer": "csharp",
   "version": "8.0"
  }
 },
 "nbformat": 4,
 "nbformat_minor": 4
}

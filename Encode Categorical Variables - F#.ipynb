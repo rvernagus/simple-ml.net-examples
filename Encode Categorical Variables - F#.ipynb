{
 "cells": [
  {
   "cell_type": "code",
   "execution_count": 1,
   "metadata": {},
   "outputs": [
    {
     "data": {
      "text/html": [
       "Installed package Microsoft.ML version *"
      ]
     },
     "metadata": {},
     "output_type": "display_data"
    }
   ],
   "source": [
    "#r \"nuget: Microsoft.ML\"\n",
    "open Microsoft.ML\n",
    "open Microsoft.ML.Data\n",
    "open System.Collections.Generic\n",
    "open System.IO\n",
    "open System.Net"
   ]
  },
  {
   "cell_type": "markdown",
   "metadata": {},
   "source": [
    "Create classes for loading and mapping data:"
   ]
  },
  {
   "cell_type": "code",
   "execution_count": 2,
   "metadata": {},
   "outputs": [],
   "source": [
    "[<CLIMutable>]\n",
    "type AdultData =\n",
    "    {\n",
    "        [<LoadColumn(0)>]\n",
    "        Age : float32\n",
    "\n",
    "        [<LoadColumn(1)>]\n",
    "        WorkClass : string\n",
    "\n",
    "        [<LoadColumn(2)>]\n",
    "        Fnlwgt : float32\n",
    "\n",
    "        [<LoadColumn(3)>]\n",
    "        Education : string\n",
    "\n",
    "        [<LoadColumn(4)>]\n",
    "        EducationNum : float32\n",
    "\n",
    "        [<LoadColumn(5)>]\n",
    "        MaritalStatus : float32\n",
    "\n",
    "        [<LoadColumn(6)>]\n",
    "        Occupation : float32\n",
    "\n",
    "        [<LoadColumn(7)>]\n",
    "        Relationship : float32\n",
    "\n",
    "        [<LoadColumn(8)>]\n",
    "        Race : string\n",
    "\n",
    "        [<LoadColumn(9)>]\n",
    "        Sex : string\n",
    "\n",
    "        [<LoadColumn(10)>]\n",
    "        CapitalGain : float32\n",
    "\n",
    "        [<LoadColumn(11)>]\n",
    "        CapitalLoss : float32\n",
    "\n",
    "        [<LoadColumn(12)>]\n",
    "        HoursPerWeek : float32\n",
    "\n",
    "        [<LoadColumn(13)>]\n",
    "        NativeCountry : string\n",
    "\n",
    "        [<LoadColumn(14)>]\n",
    "        [<ColumnName(\"Label\")>]\n",
    "        Target : string\n",
    "    }\n",
    "\n",
    "[<CLIMutable>]\n",
    "type EncodedLabel =\n",
    "    {\n",
    "        Label : string\n",
    "        EncodedLabel : bool\n",
    "    }"
   ]
  },
  {
   "cell_type": "markdown",
   "metadata": {},
   "source": [
    "Download data from [UCI Machine Learning Repository](https://archive.ics.uci.edu/ml/machine-learning-databases/adult):"
   ]
  },
  {
   "cell_type": "code",
   "execution_count": 3,
   "metadata": {},
   "outputs": [
    {
     "data": {
      "text/html": [
       "<null>"
      ]
     },
     "execution_count": 3,
     "metadata": {},
     "output_type": "execute_result"
    }
   ],
   "source": [
    "if not <| File.Exists(\"adult.data\") then\n",
    "    use client = new WebClient()\n",
    "    client.DownloadFile(\"https://archive.ics.uci.edu/ml/machine-learning-databases/adult/adult.data\", \"adult.data\")"
   ]
  },
  {
   "cell_type": "markdown",
   "metadata": {},
   "source": [
    "Instantiate a new MLContext:"
   ]
  },
  {
   "cell_type": "code",
   "execution_count": 4,
   "metadata": {},
   "outputs": [],
   "source": [
    "let context = new MLContext()"
   ]
  },
  {
   "cell_type": "markdown",
   "metadata": {},
   "source": [
    "Load data from file:"
   ]
  },
  {
   "cell_type": "code",
   "execution_count": 5,
   "metadata": {},
   "outputs": [],
   "source": [
    "let dataView = context.Data.LoadFromTextFile<AdultData>(\"adult.data\", hasHeader = false, separatorChar = ',')"
   ]
  },
  {
   "cell_type": "markdown",
   "metadata": {},
   "source": [
    "Create our mapping from labels to values:"
   ]
  },
  {
   "cell_type": "code",
   "execution_count": 12,
   "metadata": {},
   "outputs": [
    {
     "data": {
      "text/html": [
       "<table><thead><tr><th><i>index</i></th><th>Key</th><th>Value</th></tr></thead><tbody><tr><td>0</td><td>&lt;=50K</td><td>False</td></tr><tr><td>1</td><td>&lt;=50K.</td><td>False</td></tr><tr><td>2</td><td>&gt;50K</td><td>True</td></tr><tr><td>3</td><td>&gt;50K.</td><td>True</td></tr></tbody></table>"
      ]
     },
     "execution_count": 12,
     "metadata": {},
     "output_type": "execute_result"
    }
   ],
   "source": [
    "let labelLookup =\n",
    "    [|\n",
    "        KeyValuePair(\"<=50K\", false)\n",
    "        KeyValuePair(\"<=50K.\", false)\n",
    "        KeyValuePair(\">50K\", true)\n",
    "        KeyValuePair(\">50K.\", true)\n",
    "    |]\n",
    "labelLookup"
   ]
  },
  {
   "cell_type": "markdown",
   "metadata": {},
   "source": [
    "Create an encoder passing in the label-value mappings:"
   ]
  },
  {
   "cell_type": "code",
   "execution_count": 7,
   "metadata": {},
   "outputs": [],
   "source": [
    "let encoder = context.Transforms.Conversion.MapValue(inputColumnName = \"Label\", outputColumnName = \"EncodedLabel\", keyValuePairs = labelLookup)"
   ]
  },
  {
   "cell_type": "markdown",
   "metadata": {},
   "source": [
    "Fit the encoder to the data:"
   ]
  },
  {
   "cell_type": "code",
   "execution_count": 8,
   "metadata": {},
   "outputs": [],
   "source": [
    "let transformer = encoder.Fit(dataView)"
   ]
  },
  {
   "cell_type": "markdown",
   "metadata": {},
   "source": [
    "Transform the data using the encoder:"
   ]
  },
  {
   "cell_type": "code",
   "execution_count": 9,
   "metadata": {},
   "outputs": [],
   "source": [
    "let transformedDataView = transformer.Transform(dataView)"
   ]
  },
  {
   "cell_type": "markdown",
   "metadata": {},
   "source": [
    "Print our transformed data:"
   ]
  },
  {
   "cell_type": "code",
   "execution_count": 11,
   "metadata": {},
   "outputs": [
    {
     "data": {
      "text/html": [
       "<table><thead><tr><th><i>index</i></th><th>Label</th><th>EncodedLabel</th></tr></thead><tbody><tr><td>0</td><td>&lt;=50K</td><td>False</td></tr><tr><td>1</td><td>&lt;=50K</td><td>False</td></tr><tr><td>2</td><td>&lt;=50K</td><td>False</td></tr><tr><td>3</td><td>&lt;=50K</td><td>False</td></tr><tr><td>4</td><td>&lt;=50K</td><td>False</td></tr><tr><td>5</td><td>&lt;=50K</td><td>False</td></tr><tr><td>6</td><td>&lt;=50K</td><td>False</td></tr><tr><td>7</td><td>&gt;50K</td><td>True</td></tr><tr><td>8</td><td>&gt;50K</td><td>True</td></tr><tr><td>9</td><td>&gt;50K</td><td>True</td></tr></tbody></table>"
      ]
     },
     "execution_count": 11,
     "metadata": {},
     "output_type": "execute_result"
    }
   ],
   "source": [
    "context.Data.CreateEnumerable<EncodedLabel>(transformedDataView, reuseRowObject = true)\n",
    "|> Seq.take 10"
   ]
  },
  {
   "cell_type": "code",
   "execution_count": null,
   "metadata": {},
   "outputs": [],
   "source": []
  }
 ],
 "metadata": {
  "kernelspec": {
   "display_name": ".NET (F#)",
   "language": "F#",
   "name": ".net-fsharp"
  },
  "language_info": {
   "file_extension": ".fs",
   "mimetype": "text/x-fsharp",
   "name": "C#",
   "pygments_lexer": "fsharp",
   "version": "4.5"
  }
 },
 "nbformat": 4,
 "nbformat_minor": 4
}

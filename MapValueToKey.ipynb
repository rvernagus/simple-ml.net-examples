{
 "cells": [
  {
   "cell_type": "code",
   "execution_count": 6,
   "metadata": {},
   "outputs": [
    {
     "data": {
      "text/html": [
       "Installing package Microsoft.ML......."
      ]
     },
     "metadata": {},
     "output_type": "display_data"
    }
   ],
   "source": [
    "#r \"nuget: Microsoft.ML\"\n",
    "using Microsoft.ML;\n",
    "using Microsoft.ML.Transforms;"
   ]
  },
  {
   "cell_type": "markdown",
   "metadata": {},
   "source": [
    "This example comes from the ML.NET documentation: https://docs.microsoft.com/en-us/dotnet/api/microsoft.ml.conversionsextensionscatalog.mapvaluetokey?view=ml-dotnet"
   ]
  },
  {
   "cell_type": "code",
   "execution_count": 2,
   "metadata": {},
   "outputs": [],
   "source": [
    "class DataPoint\n",
    "{\n",
    "    public string StudyTime { get; set; }\n",
    "    public string Course { get; set; }\n",
    "}\n",
    "\n",
    "class TransformedData : DataPoint\n",
    "{\n",
    "    public uint StudyTimeCategory { get; set; }\n",
    "    public uint CourseCategory { get; set; }\n",
    "}\n",
    "\n",
    "class LookupMap\n",
    "{\n",
    "    public string Key { get; set; }\n",
    "}"
   ]
  },
  {
   "cell_type": "code",
   "execution_count": 3,
   "metadata": {},
   "outputs": [],
   "source": [
    "var mlContext = new MLContext();"
   ]
  },
  {
   "cell_type": "code",
   "execution_count": 4,
   "metadata": {},
   "outputs": [],
   "source": [
    "var rawData = new[] {\n",
    "    new DataPoint() { StudyTime = \"0-4yrs\" , Course = \"CS\" },\n",
    "    new DataPoint() { StudyTime = \"6-11yrs\" , Course = \"CS\" },\n",
    "    new DataPoint() { StudyTime = \"12-25yrs\" , Course = \"LA\" },\n",
    "    new DataPoint() { StudyTime = \"0-5yrs\" , Course = \"DS\" }\n",
    "};"
   ]
  },
  {
   "cell_type": "code",
   "execution_count": 5,
   "metadata": {},
   "outputs": [],
   "source": [
    "var data = mlContext.Data.LoadFromEnumerable(rawData);"
   ]
  },
  {
   "cell_type": "code",
   "execution_count": 7,
   "metadata": {},
   "outputs": [],
   "source": [
    "var pipeline = mlContext.Transforms.Conversion.MapValueToKey(\n",
    "    new[] {\n",
    "        new  InputOutputColumnPair(\"StudyTimeCategory\", \"StudyTime\"),\n",
    "        new  InputOutputColumnPair(\"CourseCategory\", \"Course\")\n",
    "    },\n",
    "    keyOrdinality: ValueToKeyMappingEstimator.KeyOrdinality.ByValue,\n",
    "    addKeyValueAnnotationsAsText: true\n",
    ");"
   ]
  },
  {
   "cell_type": "code",
   "execution_count": 8,
   "metadata": {},
   "outputs": [],
   "source": [
    "IDataView transformedData = pipeline.Fit(data).Transform(data);"
   ]
  },
  {
   "cell_type": "code",
   "execution_count": 9,
   "metadata": {},
   "outputs": [
    {
     "data": {
      "text/html": [
       "<table><thead><tr><th><i>index</i></th><th>StudyTimeCategory</th><th>CourseCategory</th><th>StudyTime</th><th>Course</th></tr></thead><tbody><tr><td>0</td><td>1</td><td>1</td><td>0-4yrs</td><td>CS</td></tr><tr><td>1</td><td>4</td><td>1</td><td>6-11yrs</td><td>CS</td></tr><tr><td>2</td><td>3</td><td>3</td><td>12-25yrs</td><td>LA</td></tr><tr><td>3</td><td>2</td><td>2</td><td>0-5yrs</td><td>DS</td></tr></tbody></table>"
      ]
     },
     "execution_count": 9,
     "metadata": {},
     "output_type": "execute_result"
    }
   ],
   "source": [
    "mlContext.Data.CreateEnumerable<TransformedData>(transformedData, reuseRowObject: false)"
   ]
  }
 ],
 "metadata": {
  "kernelspec": {
   "display_name": ".NET (C#)",
   "language": "C#",
   "name": ".net-csharp"
  },
  "language_info": {
   "file_extension": ".cs",
   "mimetype": "text/x-csharp",
   "name": "C#",
   "pygments_lexer": "csharp",
   "version": "8.0"
  }
 },
 "nbformat": 4,
 "nbformat_minor": 4
}

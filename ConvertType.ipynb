{
 "cells": [
  {
   "cell_type": "code",
   "execution_count": 1,
   "metadata": {},
   "outputs": [
    {
     "data": {
      "text/html": [
       "Installed package Microsoft.ML version 1.5.5"
      ]
     },
     "metadata": {},
     "output_type": "display_data"
    }
   ],
   "source": [
    "#r \"nuget: Microsoft.ML\"\n",
    "using Microsoft.ML;\n",
    "using Microsoft.ML.Data;"
   ]
  },
  {
   "cell_type": "markdown",
   "metadata": {},
   "source": [
    "This example comes from the ML.NET documentation: https://docs.microsoft.com/en-us/dotnet/api/microsoft.ml.conversionsextensionscatalog.converttype?view=ml-dotnet"
   ]
  },
  {
   "cell_type": "code",
   "execution_count": 2,
   "metadata": {},
   "outputs": [],
   "source": [
    "class InputData\n",
    "{\n",
    "    public bool Feature1;\n",
    "    public string Feature2;\n",
    "    public DateTime Feature3;\n",
    "    public double Feature4;\n",
    "}\n",
    "\n",
    "class TransformedData : InputData\n",
    "{\n",
    "    public float Converted1 { get; set; }\n",
    "    public float Converted2 { get; set; }\n",
    "    public float Converted3 { get; set; }\n",
    "    public float Converted4 { get; set; }\n",
    "}"
   ]
  },
  {
   "cell_type": "code",
   "execution_count": 3,
   "metadata": {},
   "outputs": [],
   "source": [
    "var mlContext = new MLContext(seed: 1);"
   ]
  },
  {
   "cell_type": "code",
   "execution_count": 4,
   "metadata": {},
   "outputs": [],
   "source": [
    "var rawData = new[] {\n",
    "    new InputData() { Feature1 = true, Feature2 = \"0.4\", Feature3 = DateTime.Now, Feature4 = 0.145},\n",
    "    new InputData() { Feature1 = false, Feature2 = \"0.5\", Feature3 = DateTime.Today, Feature4 = 3.14},\n",
    "    new InputData() { Feature1 = false, Feature2 = \"14\", Feature3 = DateTime.Today, Feature4 = 0.2046},\n",
    "    new InputData() { Feature1 = false, Feature2 = \"23\", Feature3 = DateTime.Now, Feature4 = 0.1206},\n",
    "    new InputData() { Feature1 = true, Feature2 = \"8904\", Feature3 = DateTime.UtcNow, Feature4 = 8.09},\n",
    "};"
   ]
  },
  {
   "cell_type": "code",
   "execution_count": 5,
   "metadata": {},
   "outputs": [],
   "source": [
    "var data = mlContext.Data.LoadFromEnumerable(rawData);"
   ]
  },
  {
   "cell_type": "code",
   "execution_count": 6,
   "metadata": {},
   "outputs": [],
   "source": [
    "var pipeline = mlContext.Transforms.Conversion.ConvertType(new[]\n",
    "{\n",
    "    new InputOutputColumnPair(\"Converted1\", \"Feature1\"),\n",
    "    new InputOutputColumnPair(\"Converted2\", \"Feature2\"),\n",
    "    new InputOutputColumnPair(\"Converted3\", \"Feature3\"),\n",
    "    new InputOutputColumnPair(\"Converted4\", \"Feature4\"),\n",
    " }, DataKind.Single);"
   ]
  },
  {
   "cell_type": "code",
   "execution_count": 7,
   "metadata": {},
   "outputs": [],
   "source": [
    "var transformer = pipeline.Fit(data);"
   ]
  },
  {
   "cell_type": "code",
   "execution_count": 8,
   "metadata": {},
   "outputs": [],
   "source": [
    "var transformedData = transformer.Transform(data);"
   ]
  },
  {
   "cell_type": "code",
   "execution_count": 10,
   "metadata": {},
   "outputs": [
    {
     "data": {
      "text/html": [
       "<table><thead><tr><th><i>index</i></th><th>Converted1</th><th>Converted2</th><th>Converted3</th><th>Converted4</th><th>Feature1</th><th>Feature2</th><th>Feature3</th><th>Feature4</th></tr></thead><tbody><tr><td>0</td><td>1</td><td>0.4</td><td>6.3752344E+17</td><td>0.145</td><td>True</td><td>0.4</td><td>2021-03-26 08:46:40Z</td><td>0.145</td></tr><tr><td>1</td><td>0</td><td>0.5</td><td>6.3752316E+17</td><td>3.14</td><td>False</td><td>0.5</td><td>2021-03-26 00:00:00Z</td><td>3.14</td></tr><tr><td>2</td><td>0</td><td>14</td><td>6.3752316E+17</td><td>0.2046</td><td>False</td><td>14</td><td>2021-03-26 00:00:00Z</td><td>0.2046</td></tr><tr><td>3</td><td>0</td><td>23</td><td>6.3752344E+17</td><td>0.1206</td><td>False</td><td>23</td><td>2021-03-26 08:46:40Z</td><td>0.1206</td></tr><tr><td>4</td><td>1</td><td>8904</td><td>6.375236E+17</td><td>8.09</td><td>True</td><td>8904</td><td>2021-03-26 12:46:40Z</td><td>8.09</td></tr></tbody></table>"
      ]
     },
     "execution_count": 10,
     "metadata": {},
     "output_type": "execute_result"
    }
   ],
   "source": [
    "mlContext.Data.CreateEnumerable<TransformedData>(transformedData, true)"
   ]
  }
 ],
 "metadata": {
  "kernelspec": {
   "display_name": ".NET (C#)",
   "language": "C#",
   "name": ".net-csharp"
  },
  "language_info": {
   "file_extension": ".cs",
   "mimetype": "text/x-csharp",
   "name": "C#",
   "pygments_lexer": "csharp",
   "version": "8.0"
  }
 },
 "nbformat": 4,
 "nbformat_minor": 4
}

{
 "cells": [
  {
   "cell_type": "code",
   "execution_count": 1,
   "metadata": {},
   "outputs": [
    {
     "data": {
      "text/html": [
       "Installed package Microsoft.ML version 1.5.5"
      ]
     },
     "metadata": {},
     "output_type": "display_data"
    }
   ],
   "source": [
    "#r \"nuget: Microsoft.ML\"\n",
    "using Microsoft.ML;"
   ]
  },
  {
   "cell_type": "markdown",
   "metadata": {},
   "source": [
    "This example comes from the ML.NET documentation: https://docs.microsoft.com/en-us/dotnet/api/microsoft.ml.categoricalcatalog.onehothashencoding?view=ml-dotnet"
   ]
  },
  {
   "cell_type": "code",
   "execution_count": 2,
   "metadata": {},
   "outputs": [],
   "source": [
    "class DataPoint\n",
    "{\n",
    "    public string Education { get; set; }\n",
    "\n",
    "    public string ZipCode { get; set; }\n",
    "}\n",
    "\n",
    "class TransformedData\n",
    "{\n",
    "    public float[] Education { get; set; }\n",
    "\n",
    "    public float[] ZipCode { get; set; }\n",
    "}"
   ]
  },
  {
   "cell_type": "code",
   "execution_count": 3,
   "metadata": {},
   "outputs": [],
   "source": [
    "var mlContext = new MLContext();"
   ]
  },
  {
   "cell_type": "code",
   "execution_count": 4,
   "metadata": {},
   "outputs": [],
   "source": [
    "var samples = new[]\n",
    "{\n",
    "    new DataPoint {Education = \"0-5yrs\", ZipCode = \"98005\"},\n",
    "    new DataPoint {Education = \"0-5yrs\", ZipCode = \"98052\"},\n",
    "    new DataPoint {Education = \"6-11yrs\", ZipCode = \"98005\"},\n",
    "    new DataPoint {Education = \"6-11yrs\", ZipCode = \"98052\"},\n",
    "    new DataPoint {Education = \"11-15yrs\", ZipCode = \"98005\"}\n",
    "};"
   ]
  },
  {
   "cell_type": "code",
   "execution_count": 5,
   "metadata": {},
   "outputs": [],
   "source": [
    "IDataView data = mlContext.Data.LoadFromEnumerable(samples);"
   ]
  },
  {
   "cell_type": "markdown",
   "metadata": {},
   "source": [
    "Multi column example: A pipeline for one hot encoding two columns 'Education' and 'ZipCode'."
   ]
  },
  {
   "cell_type": "code",
   "execution_count": 6,
   "metadata": {},
   "outputs": [],
   "source": [
    "var multiColumnKeyPipeline = mlContext.Transforms.Categorical.OneHotEncoding(\n",
    "    new[]\n",
    "    {\n",
    "        new InputOutputColumnPair(\"Education\"),\n",
    "        new InputOutputColumnPair(\"ZipCode\")\n",
    "    }\n",
    ");"
   ]
  },
  {
   "cell_type": "code",
   "execution_count": 7,
   "metadata": {},
   "outputs": [],
   "source": [
    "IDataView transformedData = multiColumnKeyPipeline.Fit(data).Transform(data);"
   ]
  },
  {
   "cell_type": "code",
   "execution_count": 8,
   "metadata": {},
   "outputs": [
    {
     "data": {
      "text/html": [
       "<table><thead><tr><th><i>index</i></th><th>Education</th><th>ZipCode</th></tr></thead><tbody><tr><td>0</td><td>[ 1, 0, 0 ]</td><td>[ 1, 0 ]</td></tr><tr><td>1</td><td>[ 1, 0, 0 ]</td><td>[ 0, 1 ]</td></tr><tr><td>2</td><td>[ 0, 1, 0 ]</td><td>[ 1, 0 ]</td></tr><tr><td>3</td><td>[ 0, 1, 0 ]</td><td>[ 0, 1 ]</td></tr><tr><td>4</td><td>[ 0, 0, 1 ]</td><td>[ 1, 0 ]</td></tr></tbody></table>"
      ]
     },
     "execution_count": 8,
     "metadata": {},
     "output_type": "execute_result"
    }
   ],
   "source": [
    "mlContext.Data.CreateEnumerable<TransformedData>(transformedData, true)"
   ]
  }
 ],
 "metadata": {
  "kernelspec": {
   "display_name": ".NET (C#)",
   "language": "C#",
   "name": ".net-csharp"
  },
  "language_info": {
   "file_extension": ".cs",
   "mimetype": "text/x-csharp",
   "name": "C#",
   "pygments_lexer": "csharp",
   "version": "8.0"
  }
 },
 "nbformat": 4,
 "nbformat_minor": 4
}

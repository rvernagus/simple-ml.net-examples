{
 "cells": [
  {
   "cell_type": "code",
   "execution_count": 1,
   "metadata": {},
   "outputs": [
    {
     "data": {
      "text/html": [
       "Installed package Microsoft.ML version *"
      ]
     },
     "metadata": {},
     "output_type": "display_data"
    }
   ],
   "source": [
    "#r \"nuget: Microsoft.ML\"\n",
    "open Microsoft.ML\n",
    "open Microsoft.ML.Data\n",
    "open System.IO\n",
    "open System.Net"
   ]
  },
  {
   "cell_type": "markdown",
   "metadata": {},
   "source": [
    "Download a dataset from [UCI Machine Learning Repository](https://archive.ics.uci.edu/ml/machine-learning-databases/abalone):"
   ]
  },
  {
   "cell_type": "code",
   "execution_count": 2,
   "metadata": {},
   "outputs": [
    {
     "data": {
      "text/html": [
       "<null>"
      ]
     },
     "execution_count": 2,
     "metadata": {},
     "output_type": "execute_result"
    }
   ],
   "source": [
    "if not <| File.Exists(\"ablone.data\") then\n",
    "    use client = new WebClient()\n",
    "    client.DownloadFile(\"https://archive.ics.uci.edu/ml/machine-learning-databases/abalone/abalone.data\", \"abalone.data\")"
   ]
  },
  {
   "cell_type": "markdown",
   "metadata": {},
   "source": [
    "Create a new MLContext:"
   ]
  },
  {
   "cell_type": "code",
   "execution_count": 3,
   "metadata": {},
   "outputs": [],
   "source": [
    "let context = new MLContext()"
   ]
  },
  {
   "cell_type": "markdown",
   "metadata": {},
   "source": [
    "Create a text loader:"
   ]
  },
  {
   "cell_type": "code",
   "execution_count": 4,
   "metadata": {},
   "outputs": [],
   "source": [
    "let loader = context.Data.CreateTextLoader([|\n",
    "        new TextLoader.Column(\"Sex\", DataKind.String, 0)\n",
    "        new TextLoader.Column(\"Length\", DataKind.Double, 1)\n",
    "        new TextLoader.Column(\"Diameter\", DataKind.Double, 2)\n",
    "        new TextLoader.Column(\"Height\", DataKind.Double, 3)\n",
    "        new TextLoader.Column(\"WholeWeight\", DataKind.Double, 4)\n",
    "        new TextLoader.Column(\"ShuckedWeight\", DataKind.Double, 5)\n",
    "        new TextLoader.Column(\"VisceraWeight\", DataKind.Double, 6)\n",
    "        new TextLoader.Column(\"ShellWeight\", DataKind.Double, 7)\n",
    "        new TextLoader.Column(\"Label\", DataKind.Int16, 8)\n",
    "    |], hasHeader = false, separatorChar = ',')"
   ]
  },
  {
   "cell_type": "markdown",
   "metadata": {},
   "source": [
    "Load our data file:"
   ]
  },
  {
   "cell_type": "code",
   "execution_count": 5,
   "metadata": {},
   "outputs": [],
   "source": [
    "let dataView = loader.Load(\"abalone.data\")"
   ]
  },
  {
   "cell_type": "markdown",
   "metadata": {},
   "source": [
    "Select the `Sex` and `Length` columns:"
   ]
  },
  {
   "cell_type": "code",
   "execution_count": 6,
   "metadata": {},
   "outputs": [],
   "source": [
    "let sex = dataView.GetColumn<string>(\"Sex\")\n",
    "let length = dataView.GetColumn<double>(\"Length\")"
   ]
  },
  {
   "cell_type": "markdown",
   "metadata": {},
   "source": [
    "Select 10 values from each column as pairs:"
   ]
  },
  {
   "cell_type": "code",
   "execution_count": 8,
   "metadata": {},
   "outputs": [
    {
     "data": {
      "text/html": [
       "<table><thead><tr><th><i>index</i></th><th>Item1</th><th>Item2</th></tr></thead><tbody><tr><td>0</td><td>M</td><td>0.455</td></tr><tr><td>1</td><td>M</td><td>0.35</td></tr><tr><td>2</td><td>F</td><td>0.53</td></tr><tr><td>3</td><td>M</td><td>0.44</td></tr><tr><td>4</td><td>I</td><td>0.33</td></tr><tr><td>5</td><td>I</td><td>0.425</td></tr><tr><td>6</td><td>F</td><td>0.53</td></tr><tr><td>7</td><td>F</td><td>0.545</td></tr><tr><td>8</td><td>M</td><td>0.475</td></tr><tr><td>9</td><td>F</td><td>0.55</td></tr></tbody></table>"
      ]
     },
     "execution_count": 8,
     "metadata": {},
     "output_type": "execute_result"
    }
   ],
   "source": [
    "Seq.zip sex length\n",
    "|> Seq.take 10"
   ]
  },
  {
   "cell_type": "code",
   "execution_count": null,
   "metadata": {},
   "outputs": [],
   "source": []
  }
 ],
 "metadata": {
  "kernelspec": {
   "display_name": ".NET (F#)",
   "language": "F#",
   "name": ".net-fsharp"
  },
  "language_info": {
   "file_extension": ".fs",
   "mimetype": "text/x-fsharp",
   "name": "C#",
   "pygments_lexer": "fsharp",
   "version": "4.5"
  }
 },
 "nbformat": 4,
 "nbformat_minor": 4
}

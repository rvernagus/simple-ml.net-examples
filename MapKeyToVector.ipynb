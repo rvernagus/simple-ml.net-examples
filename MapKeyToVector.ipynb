{
 "cells": [
  {
   "cell_type": "code",
   "execution_count": 1,
   "metadata": {},
   "outputs": [
    {
     "data": {
      "text/html": [
       "Installed package Microsoft.ML version 1.5.5"
      ]
     },
     "metadata": {},
     "output_type": "display_data"
    }
   ],
   "source": [
    "#r \"nuget: Microsoft.ML\"\n",
    "using Microsoft.ML;\n",
    "using Microsoft.ML.Data;"
   ]
  },
  {
   "cell_type": "markdown",
   "metadata": {},
   "source": [
    "This example comes from the ML.NET documentation: https://docs.microsoft.com/en-us/dotnet/api/microsoft.ml.conversionsextensionscatalog.mapkeytovector?view=ml-dotnet"
   ]
  },
  {
   "cell_type": "code",
   "execution_count": 2,
   "metadata": {},
   "outputs": [],
   "source": [
    "class DataPoint\n",
    "{\n",
    "    // The maximal value used is 9; but since 0 is reserved for missing\n",
    "    // value, we set the count to 10.\n",
    "    [KeyType(10)]\n",
    "    public uint Timeframe { get; set; }\n",
    "\n",
    "    [KeyType(6)]\n",
    "    public uint Category { get; set; }\n",
    "\n",
    "}\n",
    "\n",
    "class TransformedData : DataPoint\n",
    "{\n",
    "    public float[] TimeframeVector { get; set; }\n",
    "    public float[] CategoryVector { get; set; }\n",
    "}"
   ]
  },
  {
   "cell_type": "code",
   "execution_count": 3,
   "metadata": {},
   "outputs": [],
   "source": [
    "var mlContext = new MLContext();"
   ]
  },
  {
   "cell_type": "code",
   "execution_count": 4,
   "metadata": {},
   "outputs": [],
   "source": [
    "var rawData = new[] {\n",
    "    new DataPoint() { Timeframe = 9, Category = 5 },\n",
    "    new DataPoint() { Timeframe = 8, Category = 4 },\n",
    "    new DataPoint() { Timeframe = 8, Category = 4 },\n",
    "    new DataPoint() { Timeframe = 9, Category = 3 },\n",
    "    new DataPoint() { Timeframe = 2, Category = 3 },\n",
    "    new DataPoint() { Timeframe = 3, Category = 5 }\n",
    "};"
   ]
  },
  {
   "cell_type": "code",
   "execution_count": 5,
   "metadata": {},
   "outputs": [],
   "source": [
    "var data = mlContext.Data.LoadFromEnumerable(rawData);"
   ]
  },
  {
   "cell_type": "code",
   "execution_count": 6,
   "metadata": {},
   "outputs": [],
   "source": [
    "var pipeline = mlContext.Transforms.Conversion.MapKeyToVector(new[]{\n",
    "        new InputOutputColumnPair (\"TimeframeVector\", \"Timeframe\"),\n",
    "        new InputOutputColumnPair (\"CategoryVector\", \"Category\")\n",
    "});"
   ]
  },
  {
   "cell_type": "code",
   "execution_count": 7,
   "metadata": {},
   "outputs": [],
   "source": [
    "IDataView transformedData = pipeline.Fit(data).Transform(data);"
   ]
  },
  {
   "cell_type": "code",
   "execution_count": 8,
   "metadata": {},
   "outputs": [
    {
     "data": {
      "text/html": [
       "<table><thead><tr><th><i>index</i></th><th>TimeframeVector</th><th>CategoryVector</th><th>Timeframe</th><th>Category</th></tr></thead><tbody><tr><td>0</td><td>[ 0, 0, 0, 0, 0, 0, 0, 0, 0, 1 ]</td><td>[ 0, 0, 0, 0, 0, 1 ]</td><td>10</td><td>6</td></tr><tr><td>1</td><td>[ 0, 0, 0, 0, 0, 0, 0, 0, 1, 0 ]</td><td>[ 0, 0, 0, 0, 1, 0 ]</td><td>9</td><td>5</td></tr><tr><td>2</td><td>[ 0, 0, 0, 0, 0, 0, 0, 0, 1, 0 ]</td><td>[ 0, 0, 0, 0, 1, 0 ]</td><td>9</td><td>5</td></tr><tr><td>3</td><td>[ 0, 0, 0, 0, 0, 0, 0, 0, 0, 1 ]</td><td>[ 0, 0, 0, 1, 0, 0 ]</td><td>10</td><td>4</td></tr><tr><td>4</td><td>[ 0, 0, 1, 0, 0, 0, 0, 0, 0, 0 ]</td><td>[ 0, 0, 0, 1, 0, 0 ]</td><td>3</td><td>4</td></tr><tr><td>5</td><td>[ 0, 0, 0, 1, 0, 0, 0, 0, 0, 0 ]</td><td>[ 0, 0, 0, 0, 0, 1 ]</td><td>4</td><td>6</td></tr></tbody></table>"
      ]
     },
     "execution_count": 8,
     "metadata": {},
     "output_type": "execute_result"
    }
   ],
   "source": [
    " mlContext.Data.CreateEnumerable<TransformedData>(transformedData, reuseRowObject: false)"
   ]
  }
 ],
 "metadata": {
  "kernelspec": {
   "display_name": ".NET (C#)",
   "language": "C#",
   "name": ".net-csharp"
  },
  "language_info": {
   "file_extension": ".cs",
   "mimetype": "text/x-csharp",
   "name": "C#",
   "pygments_lexer": "csharp",
   "version": "8.0"
  }
 },
 "nbformat": 4,
 "nbformat_minor": 4
}

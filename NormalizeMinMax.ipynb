{
 "cells": [
  {
   "cell_type": "code",
   "execution_count": 1,
   "metadata": {},
   "outputs": [
    {
     "data": {
      "text/html": [
       "Installed package Microsoft.ML version 1.5.5"
      ]
     },
     "metadata": {},
     "output_type": "display_data"
    }
   ],
   "source": [
    "#r \"nuget: Microsoft.ML\"\n",
    "using Microsoft.ML;\n",
    "using Microsoft.ML.Data;\n",
    "using System.Linq;\n",
    "using static Microsoft.ML.Transforms.NormalizingTransformer;"
   ]
  },
  {
   "cell_type": "markdown",
   "metadata": {},
   "source": [
    "This example comes from the ML.NET documentation: https://docs.microsoft.com/en-us/dotnet/api/microsoft.ml.normalizationcatalog.normalizesupervisedbinning?view=ml-dotnet"
   ]
  },
  {
   "cell_type": "code",
   "execution_count": 2,
   "metadata": {},
   "outputs": [],
   "source": [
    "class DataPoint\n",
    "{\n",
    "    [VectorType(4)]\n",
    "    public float[] Features { get; set; }\n",
    "\n",
    "    [VectorType(3)]\n",
    "    public float[] Features2 { get; set; }\n",
    "}"
   ]
  },
  {
   "cell_type": "code",
   "execution_count": 3,
   "metadata": {},
   "outputs": [],
   "source": [
    "var mlContext = new MLContext();"
   ]
  },
  {
   "cell_type": "code",
   "execution_count": 4,
   "metadata": {},
   "outputs": [],
   "source": [
    "var samples = new List<DataPoint>()\n",
    "{\n",
    "    new DataPoint()\n",
    "    { \n",
    "        Features = new float[4] { 1, 1, 3, 0 },\n",
    "        Features2 = new float[3] { 1, 2, 3 }\n",
    "    },\n",
    "    new DataPoint()\n",
    "    { \n",
    "        Features = new float[4] { 2, 2, 2, 0 },\n",
    "        Features2 = new float[3] { 3, 4, 5 }\n",
    "    },\n",
    "    new DataPoint()\n",
    "    { \n",
    "        Features = new float[4] { 0, 0, 1, 0 },\n",
    "        Features2 = new float[3] { 6, 7, 8 }\n",
    "    },\n",
    "    new DataPoint()\n",
    "    { \n",
    "        Features = new float[4] {-1,-1,-1, 1 },\n",
    "        Features2 = new float[3] { 9, 0, 4 }\n",
    "    }\n",
    "};"
   ]
  },
  {
   "cell_type": "code",
   "execution_count": 5,
   "metadata": {},
   "outputs": [],
   "source": [
    "var data = mlContext.Data.LoadFromEnumerable(samples);"
   ]
  },
  {
   "cell_type": "code",
   "execution_count": 6,
   "metadata": {},
   "outputs": [],
   "source": [
    "var columnPair = new[]\n",
    "{\n",
    "    new InputOutputColumnPair(\"Features\"),\n",
    "    new InputOutputColumnPair(\"Features2\")\n",
    "};"
   ]
  },
  {
   "cell_type": "markdown",
   "metadata": {},
   "source": [
    "NormalizeMinMax normalize rows by finding min and max values in each row slot and setting projection of min value to 0 and max to 1 and everything else to values in between."
   ]
  },
  {
   "cell_type": "code",
   "execution_count": 7,
   "metadata": {},
   "outputs": [],
   "source": [
    "var normalize = mlContext.Transforms.NormalizeMinMax(columnPair, fixZero: false);"
   ]
  },
  {
   "cell_type": "markdown",
   "metadata": {},
   "source": [
    "Normalize rows by finding min and max values in each row slot, but make sure zero values remain zero after normalization. Helps preserve sparsity. That is, to help maintain very little non-zero elements."
   ]
  },
  {
   "cell_type": "code",
   "execution_count": 8,
   "metadata": {},
   "outputs": [],
   "source": [
    "var normalizeFixZero = mlContext.Transforms.NormalizeMinMax(columnPair, fixZero: true);"
   ]
  },
  {
   "cell_type": "code",
   "execution_count": 9,
   "metadata": {},
   "outputs": [],
   "source": [
    "var normalizeTransform = normalize.Fit(data);\n",
    "var transformedData = normalizeTransform.Transform(data);\n",
    "var normalizeFixZeroTransform = normalizeFixZero.Fit(data);\n",
    "var fixZeroData = normalizeFixZeroTransform.Transform(data);"
   ]
  },
  {
   "cell_type": "code",
   "execution_count": 11,
   "metadata": {},
   "outputs": [
    {
     "data": {
      "text/html": [
       "<table><thead><tr><th><i>index</i></th><th>value</th></tr></thead><tbody><tr><td>0</td><td>[ 0.6666667, 0.6666667, 1, 0 ]</td></tr><tr><td>1</td><td>[ 1, 1, 0.75, 0 ]</td></tr><tr><td>2</td><td>[ 0.33333334, 0.33333334, 0.5, 0 ]</td></tr><tr><td>3</td><td>[ 0, 0, 0, 1 ]</td></tr></tbody></table>"
      ]
     },
     "execution_count": 11,
     "metadata": {},
     "output_type": "execute_result"
    }
   ],
   "source": [
    "transformedData.GetColumn<float[]>(\"Features\")"
   ]
  },
  {
   "cell_type": "code",
   "execution_count": 12,
   "metadata": {},
   "outputs": [
    {
     "data": {
      "text/html": [
       "<table><thead><tr><th><i>index</i></th><th>value</th></tr></thead><tbody><tr><td>0</td><td>[ 0, 0.2857143, 0 ]</td></tr><tr><td>1</td><td>[ 0.25, 0.5714286, 0.4 ]</td></tr><tr><td>2</td><td>[ 0.625, 1, 1 ]</td></tr><tr><td>3</td><td>[ 1, 0, 0.2 ]</td></tr></tbody></table>"
      ]
     },
     "execution_count": 12,
     "metadata": {},
     "output_type": "execute_result"
    }
   ],
   "source": [
    "transformedData.GetColumn<float[]>(\"Features2\")"
   ]
  },
  {
   "cell_type": "code",
   "execution_count": 13,
   "metadata": {},
   "outputs": [
    {
     "data": {
      "text/html": [
       "<table><thead><tr><th><i>index</i></th><th>value</th></tr></thead><tbody><tr><td>0</td><td>[ 0.5, 0.5, 1, 0 ]</td></tr><tr><td>1</td><td>[ 1, 1, 0.6666667, 0 ]</td></tr><tr><td>2</td><td>[ 0, 0, 0.33333334, 0 ]</td></tr><tr><td>3</td><td>[ -0.5, -0.5, -0.33333334, 1 ]</td></tr></tbody></table>"
      ]
     },
     "execution_count": 13,
     "metadata": {},
     "output_type": "execute_result"
    }
   ],
   "source": [
    "fixZeroData.GetColumn<float[]>(\"Features\")"
   ]
  },
  {
   "cell_type": "code",
   "execution_count": 14,
   "metadata": {},
   "outputs": [
    {
     "data": {
      "text/html": [
       "<table><thead><tr><th><i>index</i></th><th>value</th></tr></thead><tbody><tr><td>0</td><td>[ 0.11111111, 0.2857143, 0.375 ]</td></tr><tr><td>1</td><td>[ 0.33333334, 0.5714286, 0.625 ]</td></tr><tr><td>2</td><td>[ 0.6666667, 1, 1 ]</td></tr><tr><td>3</td><td>[ 1, 0, 0.5 ]</td></tr></tbody></table>"
      ]
     },
     "execution_count": 14,
     "metadata": {},
     "output_type": "execute_result"
    }
   ],
   "source": [
    "fixZeroData.GetColumn<float[]>(\"Features2\")"
   ]
  },
  {
   "cell_type": "code",
   "execution_count": 15,
   "metadata": {},
   "outputs": [
    {
     "data": {
      "text/html": [
       "<table><thead><tr><th>Scale</th><th>Offset</th></tr></thead><tbody><tr><td>[ 0.33333334, 0.33333334, 0.25, 1 ]</td><td>[ -1, -1, -1, 0 ]</td></tr></tbody></table>"
      ]
     },
     "execution_count": 15,
     "metadata": {},
     "output_type": "execute_result"
    }
   ],
   "source": [
    "normalizeTransform.GetNormalizerModelParameters(0)"
   ]
  },
  {
   "cell_type": "code",
   "execution_count": 16,
   "metadata": {},
   "outputs": [
    {
     "data": {
      "text/html": [
       "<table><thead><tr><th>Scale</th><th>Offset</th></tr></thead><tbody><tr><td>[ 0.125, 0.14285715, 0.2 ]</td><td>[ 1, 0, 3 ]</td></tr></tbody></table>"
      ]
     },
     "execution_count": 16,
     "metadata": {},
     "output_type": "execute_result"
    }
   ],
   "source": [
    "normalizeTransform.GetNormalizerModelParameters(1)"
   ]
  }
 ],
 "metadata": {
  "kernelspec": {
   "display_name": ".NET (C#)",
   "language": "C#",
   "name": ".net-csharp"
  },
  "language_info": {
   "file_extension": ".cs",
   "mimetype": "text/x-csharp",
   "name": "C#",
   "pygments_lexer": "csharp",
   "version": "8.0"
  }
 },
 "nbformat": 4,
 "nbformat_minor": 4
}

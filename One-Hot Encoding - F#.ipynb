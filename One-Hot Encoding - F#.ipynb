{
 "cells": [
  {
   "cell_type": "code",
   "execution_count": 1,
   "metadata": {},
   "outputs": [
    {
     "data": {
      "text/html": [
       "Installed package Microsoft.ML version *"
      ]
     },
     "metadata": {},
     "output_type": "display_data"
    }
   ],
   "source": [
    "#r \"nuget: Microsoft.ML\"\n",
    "open Microsoft.ML\n",
    "open Microsoft.ML.Data\n",
    "open System.IO\n",
    "open System.Net"
   ]
  },
  {
   "cell_type": "markdown",
   "metadata": {},
   "source": [
    "Create a type that represents our data:"
   ]
  },
  {
   "cell_type": "code",
   "execution_count": 2,
   "metadata": {},
   "outputs": [],
   "source": [
    "[<CLIMutable>]\n",
    "type AbaloneData =\n",
    "    {\n",
    "        [<LoadColumn(0)>]\n",
    "        Sex : string\n",
    "\n",
    "        [<LoadColumn(1)>]\n",
    "        Length : float32\n",
    "\n",
    "        [<LoadColumn(2)>]\n",
    "        Diameter : float32\n",
    "\n",
    "        [<LoadColumn(3)>]\n",
    "        Height : float32\n",
    "\n",
    "        [<LoadColumn(4)>]\n",
    "        WholeWeight : float32\n",
    "\n",
    "        [<LoadColumn(5)>]\n",
    "        ShuckedWeight : float32\n",
    "\n",
    "        [<LoadColumn(6)>]\n",
    "        VisceraWeight : float32\n",
    "\n",
    "        [<LoadColumn(7)>]\n",
    "        ShellWeight : float32\n",
    "\n",
    "        [<LoadColumn(8)>]\n",
    "        Rings : single\n",
    "    }"
   ]
  },
  {
   "cell_type": "markdown",
   "metadata": {},
   "source": [
    "Download the data from [UCI Machine Learning Repository](https://archive.ics.uci.edu/ml/machine-learning-databases/abalone):"
   ]
  },
  {
   "cell_type": "code",
   "execution_count": 3,
   "metadata": {},
   "outputs": [
    {
     "data": {
      "text/html": [
       "<table><thead><tr><th><i>index</i></th><th>value</th></tr></thead><tbody><tr><td>0</td><td>M,0.455,0.365,0.095,0.514,0.2245,0.101,0.15,15</td></tr><tr><td>1</td><td>M,0.35,0.265,0.09,0.2255,0.0995,0.0485,0.07,7</td></tr><tr><td>2</td><td>F,0.53,0.42,0.135,0.677,0.2565,0.1415,0.21,9</td></tr><tr><td>3</td><td>M,0.44,0.365,0.125,0.516,0.2155,0.114,0.155,10</td></tr><tr><td>4</td><td>I,0.33,0.255,0.08,0.205,0.0895,0.0395,0.055,7</td></tr></tbody></table>"
      ]
     },
     "execution_count": 3,
     "metadata": {},
     "output_type": "execute_result"
    }
   ],
   "source": [
    "if not <| File.Exists(\"abalone.data\") then\n",
    "    use client = new WebClient()\n",
    "    client.DownloadFile(\"https://archive.ics.uci.edu/ml/machine-learning-databases/abalone/abalone.data\", \"abalone.data\")\n",
    "\n",
    "File.ReadLines(\"abalone.data\")\n",
    "|> Seq.take 5"
   ]
  },
  {
   "cell_type": "markdown",
   "metadata": {},
   "source": [
    "Create a new MLContext:"
   ]
  },
  {
   "cell_type": "code",
   "execution_count": 4,
   "metadata": {},
   "outputs": [],
   "source": [
    "let context = new MLContext()"
   ]
  },
  {
   "cell_type": "markdown",
   "metadata": {},
   "source": [
    "Read the data in the file:"
   ]
  },
  {
   "cell_type": "code",
   "execution_count": 5,
   "metadata": {},
   "outputs": [],
   "source": [
    "let dataView = context.Data.LoadFromTextFile<AbaloneData>(\"abalone.data\", hasHeader = false, separatorChar = ',')"
   ]
  },
  {
   "cell_type": "markdown",
   "metadata": {},
   "source": [
    "Create a One-Hot Encoder:"
   ]
  },
  {
   "cell_type": "code",
   "execution_count": 6,
   "metadata": {},
   "outputs": [],
   "source": [
    "let encoder = context.Transforms.Categorical.OneHotEncoding(inputColumnName = \"Sex\", outputColumnName = \"EncodedSex\")"
   ]
  },
  {
   "cell_type": "markdown",
   "metadata": {},
   "source": [
    "Create a transformer and fit it to the data:"
   ]
  },
  {
   "cell_type": "code",
   "execution_count": 7,
   "metadata": {},
   "outputs": [],
   "source": [
    "let transformer = encoder.Fit(dataView)\n",
    "let transformedDataView = transformer.Transform(dataView)"
   ]
  },
  {
   "cell_type": "markdown",
   "metadata": {},
   "source": [
    "Create a type to hold the value and its encoding:"
   ]
  },
  {
   "cell_type": "code",
   "execution_count": 8,
   "metadata": {},
   "outputs": [],
   "source": [
    "[<CLIMutable>]\n",
    "type SexEncoding =\n",
    "    {\n",
    "        Sex : string\n",
    "        EncodedSex : single[]\n",
    "    }"
   ]
  },
  {
   "cell_type": "markdown",
   "metadata": {},
   "source": [
    "Encode the data and randomly select 10 examples:"
   ]
  },
  {
   "cell_type": "code",
   "execution_count": 9,
   "metadata": {},
   "outputs": [
    {
     "data": {
      "text/html": [
       "<table><thead><tr><th><i>index</i></th><th>Sex</th><th>EncodedSex</th></tr></thead><tbody><tr><td>0</td><td>M</td><td>[ 1, 0, 0 ]</td></tr><tr><td>1</td><td>I</td><td>[ 0, 0, 1 ]</td></tr><tr><td>2</td><td>I</td><td>[ 0, 0, 1 ]</td></tr><tr><td>3</td><td>F</td><td>[ 0, 1, 0 ]</td></tr><tr><td>4</td><td>I</td><td>[ 0, 0, 1 ]</td></tr><tr><td>5</td><td>I</td><td>[ 0, 0, 1 ]</td></tr><tr><td>6</td><td>M</td><td>[ 1, 0, 0 ]</td></tr><tr><td>7</td><td>M</td><td>[ 1, 0, 0 ]</td></tr><tr><td>8</td><td>M</td><td>[ 1, 0, 0 ]</td></tr><tr><td>9</td><td>I</td><td>[ 0, 0, 1 ]</td></tr></tbody></table>"
      ]
     },
     "execution_count": 9,
     "metadata": {},
     "output_type": "execute_result"
    }
   ],
   "source": [
    "let encodedLabels = context.Data.CreateEnumerable<SexEncoding>(transformedDataView, reuseRowObject = false)\n",
    "let rand = new Random()\n",
    "    \n",
    "encodedLabels\n",
    "|> Seq.sortBy (fun _ -> rand.Next())\n",
    "|> Seq.take 10"
   ]
  },
  {
   "cell_type": "code",
   "execution_count": null,
   "metadata": {},
   "outputs": [],
   "source": []
  }
 ],
 "metadata": {
  "kernelspec": {
   "display_name": ".NET (F#)",
   "language": "F#",
   "name": ".net-fsharp"
  },
  "language_info": {
   "file_extension": ".fs",
   "mimetype": "text/x-fsharp",
   "name": "C#",
   "pygments_lexer": "fsharp",
   "version": "4.5"
  }
 },
 "nbformat": 4,
 "nbformat_minor": 4
}

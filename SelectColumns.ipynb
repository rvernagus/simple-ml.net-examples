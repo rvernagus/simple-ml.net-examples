{
 "cells": [
  {
   "cell_type": "code",
   "execution_count": 1,
   "metadata": {},
   "outputs": [
    {
     "data": {
      "text/html": [
       "Installed package Microsoft.ML version 1.5.5"
      ]
     },
     "metadata": {},
     "output_type": "display_data"
    }
   ],
   "source": [
    "#r \"nuget: Microsoft.ML\"\n",
    "using Microsoft.ML;\n",
    "using Microsoft.ML.Data;\n",
    "using System.Linq;"
   ]
  },
  {
   "cell_type": "markdown",
   "metadata": {},
   "source": [
    "This example comes from the ML.NET documentation: https://docs.microsoft.com/en-us/dotnet/api/microsoft.ml.transformextensionscatalog.selectcolumns?view=ml-dotnet"
   ]
  },
  {
   "cell_type": "code",
   "execution_count": 2,
   "metadata": {},
   "outputs": [],
   "source": [
    "class InputData\n",
    "{\n",
    "    public int Age { get; set; }\n",
    "    public string Gender { get; set; }\n",
    "    public string Education { get; set; }\n",
    "    public float ExtraColumn { get; set; }\n",
    "}\n",
    "\n",
    "class TransformedData\n",
    "{\n",
    "    public int Age { get; set; }\n",
    "    public string Education { get; set; }\n",
    "}"
   ]
  },
  {
   "cell_type": "code",
   "execution_count": 3,
   "metadata": {},
   "outputs": [],
   "source": [
    "var mlContext = new MLContext();"
   ]
  },
  {
   "cell_type": "code",
   "execution_count": 4,
   "metadata": {},
   "outputs": [],
   "source": [
    "var samples = new List<InputData>()\n",
    "{\n",
    "    new InputData(){ Age = 21, Gender = \"Male\", Education = \"BS\", ExtraColumn = 1 },\n",
    "    new InputData(){ Age = 23, Gender = \"Female\", Education = \"MBA\", ExtraColumn = 2 },\n",
    "    new InputData(){ Age = 28, Gender = \"Male\", Education = \"PhD\", ExtraColumn = 3 },\n",
    "    new InputData(){ Age = 22, Gender = \"Male\", Education = \"BS\", ExtraColumn = 4 },\n",
    "    new InputData(){ Age = 23, Gender = \"Female\", Education = \"MS\", ExtraColumn = 5 },\n",
    "    new InputData(){ Age = 27, Gender = \"Female\", Education = \"PhD\", ExtraColumn = 6 },\n",
    "};"
   ]
  },
  {
   "cell_type": "code",
   "execution_count": 5,
   "metadata": {},
   "outputs": [],
   "source": [
    "var dataview = mlContext.Data.LoadFromEnumerable(samples);"
   ]
  },
  {
   "cell_type": "code",
   "execution_count": 6,
   "metadata": {},
   "outputs": [],
   "source": [
    "var pipeline = mlContext.Transforms.SelectColumns(\"Age\", \"Education\");"
   ]
  },
  {
   "cell_type": "code",
   "execution_count": 9,
   "metadata": {},
   "outputs": [
    {
     "data": {
      "text/plain": [
       "There are 2 columns in the dataset."
      ]
     },
     "execution_count": 9,
     "metadata": {},
     "output_type": "execute_result"
    }
   ],
   "source": [
    "var transformedData = pipeline.Fit(dataview).Transform(dataview);\n",
    "$\"There are {transformedData.Schema.Count} columns in the dataset.\""
   ]
  },
  {
   "cell_type": "code",
   "execution_count": 10,
   "metadata": {},
   "outputs": [
    {
     "data": {
      "text/html": [
       "<table><thead><tr><th><i>index</i></th><th>Age</th><th>Education</th></tr></thead><tbody><tr><td>0</td><td>21</td><td>BS</td></tr><tr><td>1</td><td>23</td><td>MBA</td></tr><tr><td>2</td><td>28</td><td>PhD</td></tr><tr><td>3</td><td>22</td><td>BS</td></tr><tr><td>4</td><td>23</td><td>MS</td></tr><tr><td>5</td><td>27</td><td>PhD</td></tr></tbody></table>"
      ]
     },
     "execution_count": 10,
     "metadata": {},
     "output_type": "execute_result"
    }
   ],
   "source": [
    "mlContext.Data.CreateEnumerable<TransformedData>(transformedData, reuseRowObject: false)"
   ]
  }
 ],
 "metadata": {
  "kernelspec": {
   "display_name": ".NET (C#)",
   "language": "C#",
   "name": ".net-csharp"
  },
  "language_info": {
   "file_extension": ".cs",
   "mimetype": "text/x-csharp",
   "name": "C#",
   "pygments_lexer": "csharp",
   "version": "8.0"
  }
 },
 "nbformat": 4,
 "nbformat_minor": 4
}

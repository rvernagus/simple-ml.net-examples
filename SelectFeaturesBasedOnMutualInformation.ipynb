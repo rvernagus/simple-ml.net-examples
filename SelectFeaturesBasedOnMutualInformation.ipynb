{
 "cells": [
  {
   "cell_type": "code",
   "execution_count": 1,
   "metadata": {},
   "outputs": [
    {
     "data": {
      "text/html": [
       "Installed package Microsoft.ML version 1.5.5"
      ]
     },
     "metadata": {},
     "output_type": "display_data"
    }
   ],
   "source": [
    "#r \"nuget: Microsoft.ML\"\n",
    "using Microsoft.ML;\n",
    "using Microsoft.ML.Data;"
   ]
  },
  {
   "cell_type": "markdown",
   "metadata": {},
   "source": [
    "This example comes from the ML.NET documentation: https://docs.microsoft.com/en-us/dotnet/api/microsoft.ml.featureselectioncatalog.selectfeaturesbasedonmutualinformation?view=ml-dotnet"
   ]
  },
  {
   "cell_type": "code",
   "execution_count": 2,
   "metadata": {},
   "outputs": [],
   "source": [
    "class TransformedData\n",
    "{\n",
    "    public float[] NumericVectorA { get; set; }\n",
    "\n",
    "    public float[] NumericVectorB { get; set; }\n",
    "}\n",
    "\n",
    "class NumericData\n",
    "{\n",
    "    public bool Label;\n",
    "\n",
    "    [VectorType(3)]\n",
    "    public float[] NumericVectorA { get; set; }\n",
    "\n",
    "    [VectorType(3)]\n",
    "    public float[] NumericVectorB { get; set; }\n",
    "}"
   ]
  },
  {
   "cell_type": "code",
   "execution_count": 3,
   "metadata": {},
   "outputs": [],
   "source": [
    "static IEnumerable<NumericData> GetData()\n",
    "{\n",
    "    var data = new List<NumericData>\n",
    "    {\n",
    "        new NumericData\n",
    "        {\n",
    "            Label = true,\n",
    "            NumericVectorA = new float[] { 4, 0, 6 },\n",
    "            NumericVectorB = new float[] { 7, 8, 9 },\n",
    "        },\n",
    "        new NumericData\n",
    "        {\n",
    "            Label = false,\n",
    "            NumericVectorA = new float[] { 0, 5, 7 },\n",
    "            NumericVectorB = new float[] { 7, 9, 0 },\n",
    "        },\n",
    "        new NumericData\n",
    "        {\n",
    "            Label = true,\n",
    "            NumericVectorA = new float[] { 4, 0, 6 },\n",
    "            NumericVectorB = new float[] { 7, 8, 9 },\n",
    "        },\n",
    "        new NumericData\n",
    "        {\n",
    "            Label = false,\n",
    "            NumericVectorA = new float[] { 0, 5, 7 },\n",
    "            NumericVectorB = new float[] { 7, 8, 0 },\n",
    "        }\n",
    "    };\n",
    "    return data;\n",
    "}"
   ]
  },
  {
   "cell_type": "code",
   "execution_count": 4,
   "metadata": {},
   "outputs": [],
   "source": [
    "var mlContext = new MLContext();"
   ]
  },
  {
   "cell_type": "code",
   "execution_count": 5,
   "metadata": {},
   "outputs": [
    {
     "data": {
      "text/html": [
       "<table><thead><tr><th><i>index</i></th><th>NumericVectorA</th><th>NumericVectorB</th><th>Label</th></tr></thead><tbody><tr><td>0</td><td>[ 4, 0, 6 ]</td><td>[ 7, 8, 9 ]</td><td>True</td></tr><tr><td>1</td><td>[ 0, 5, 7 ]</td><td>[ 7, 9, 0 ]</td><td>False</td></tr><tr><td>2</td><td>[ 4, 0, 6 ]</td><td>[ 7, 8, 9 ]</td><td>True</td></tr><tr><td>3</td><td>[ 0, 5, 7 ]</td><td>[ 7, 8, 0 ]</td><td>False</td></tr></tbody></table>"
      ]
     },
     "execution_count": 5,
     "metadata": {},
     "output_type": "execute_result"
    }
   ],
   "source": [
    "var rawData = GetData();\n",
    "rawData"
   ]
  },
  {
   "cell_type": "code",
   "execution_count": 6,
   "metadata": {},
   "outputs": [],
   "source": [
    "var data = mlContext.Data.LoadFromEnumerable(rawData);"
   ]
  },
  {
   "cell_type": "markdown",
   "metadata": {},
   "source": [
    "We define a MutualInformationFeatureSelectingEstimator that selects the top k slots in a feature vector based on highest mutual information between that slot and a specified label. \n",
    "\n",
    "Multi column example : This pipeline transform two columns using the provided parameters."
   ]
  },
  {
   "cell_type": "code",
   "execution_count": 7,
   "metadata": {},
   "outputs": [],
   "source": [
    "var pipeline = mlContext.Transforms.FeatureSelection\n",
    "    .SelectFeaturesBasedOnMutualInformation(\n",
    "        new InputOutputColumnPair[] \n",
    "        {\n",
    "            new InputOutputColumnPair(\"NumericVectorA\"),\n",
    "            new InputOutputColumnPair(\"NumericVectorB\")\n",
    "        },\n",
    "        labelColumnName: \"Label\",\n",
    "        slotsInOutput: 4\n",
    "    );"
   ]
  },
  {
   "cell_type": "code",
   "execution_count": 8,
   "metadata": {},
   "outputs": [],
   "source": [
    "var transformedData = pipeline.Fit(data).Transform(data);"
   ]
  },
  {
   "cell_type": "code",
   "execution_count": 9,
   "metadata": {},
   "outputs": [
    {
     "data": {
      "text/html": [
       "<table><thead><tr><th><i>index</i></th><th>NumericVectorA</th><th>NumericVectorB</th></tr></thead><tbody><tr><td>0</td><td>[ 4, 0, 6 ]</td><td>[ 9 ]</td></tr><tr><td>1</td><td>[ 0, 5, 7 ]</td><td>[ 0 ]</td></tr><tr><td>2</td><td>[ 4, 0, 6 ]</td><td>[ 9 ]</td></tr><tr><td>3</td><td>[ 0, 5, 7 ]</td><td>[ 0 ]</td></tr></tbody></table>"
      ]
     },
     "execution_count": 9,
     "metadata": {},
     "output_type": "execute_result"
    }
   ],
   "source": [
    "mlContext.Data.CreateEnumerable<TransformedData>(transformedData, reuseRowObject: false)"
   ]
  }
 ],
 "metadata": {
  "kernelspec": {
   "display_name": ".NET (C#)",
   "language": "C#",
   "name": ".net-csharp"
  },
  "language_info": {
   "file_extension": ".cs",
   "mimetype": "text/x-csharp",
   "name": "C#",
   "pygments_lexer": "csharp",
   "version": "8.0"
  }
 },
 "nbformat": 4,
 "nbformat_minor": 4
}

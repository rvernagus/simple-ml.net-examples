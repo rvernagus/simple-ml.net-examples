{
 "cells": [
  {
   "cell_type": "code",
   "execution_count": 7,
   "metadata": {},
   "outputs": [
    {
     "data": {
      "text/html": [
       "Installing package Microsoft.ML........"
      ]
     },
     "metadata": {},
     "output_type": "display_data"
    }
   ],
   "source": [
    "#r \"nuget: Microsoft.ML\"\n",
    "using Microsoft.ML;\n",
    "using Microsoft.ML.Data;"
   ]
  },
  {
   "cell_type": "markdown",
   "metadata": {},
   "source": [
    "This example comes from the ML.NET documentation: https://docs.microsoft.com/en-us/dotnet/api/microsoft.ml.conversionsextensionscatalog.mapkeytovalue?view=ml-dotnet"
   ]
  },
  {
   "cell_type": "code",
   "execution_count": 8,
   "metadata": {},
   "outputs": [],
   "source": [
    "class DataPoint\n",
    "{\n",
    "    public string Label { get; set; }\n",
    "    [VectorType(10)]\n",
    "    public float[] Features { get; set; }\n",
    "}\n",
    "\n",
    "class TransformedData\n",
    "{\n",
    "    public uint Label { get; set; }\n",
    "    public uint PredictedLabel { get; set; }\n",
    "    public string LabelOriginalValue { get; set; }\n",
    "    public string PredictedLabelOriginalValue { get; set; }\n",
    "}"
   ]
  },
  {
   "cell_type": "code",
   "execution_count": 9,
   "metadata": {},
   "outputs": [],
   "source": [
    "static List<DataPoint> GenerateRandomDataPoints(int count, int featureVectorLenght)\n",
    "{\n",
    "    var examples = new List<DataPoint>();\n",
    "    var rnd = new Random(0);\n",
    "    for (int i = 0; i < count; ++i)\n",
    "    {\n",
    "        var example = new DataPoint();\n",
    "        example.Features = new float[featureVectorLenght];\n",
    "        var res = i % 4;\n",
    "        // Generate random float feature values.\n",
    "        for (int j = 0; j < featureVectorLenght; ++j)\n",
    "        {\n",
    "            var value = (float)rnd.NextDouble() + res * 0.2f;\n",
    "            example.Features[j] = value;\n",
    "        }\n",
    "\n",
    "        // Generate label based on feature sum.\n",
    "        if (res == 0)\n",
    "            example.Label = \"AA\";\n",
    "        else if (res == 1)\n",
    "            example.Label = \"BB\";\n",
    "        else if (res == 2)\n",
    "            example.Label = \"CC\";\n",
    "        else\n",
    "            example.Label = \"DD\";\n",
    "        examples.Add(example);\n",
    "    }\n",
    "    return examples;\n",
    "}"
   ]
  },
  {
   "cell_type": "code",
   "execution_count": 10,
   "metadata": {},
   "outputs": [],
   "source": [
    "var mlContext = new MLContext(seed: 0);"
   ]
  },
  {
   "cell_type": "code",
   "execution_count": 11,
   "metadata": {},
   "outputs": [],
   "source": [
    "var examples = GenerateRandomDataPoints(1000, 10);"
   ]
  },
  {
   "cell_type": "code",
   "execution_count": 12,
   "metadata": {},
   "outputs": [],
   "source": [
    "var dataView = mlContext.Data.LoadFromEnumerable(examples);"
   ]
  },
  {
   "cell_type": "code",
   "execution_count": 14,
   "metadata": {},
   "outputs": [],
   "source": [
    "var pipeline = mlContext\n",
    "    // Convert the string labels into key types.\n",
    "    .Transforms.Conversion.MapValueToKey(\"Label\")\n",
    "    // Apply StochasticDualCoordinateAscent multiclass trainer.\n",
    "    .Append(mlContext.MulticlassClassification.Trainers.SdcaMaximumEntropy());"
   ]
  },
  {
   "cell_type": "code",
   "execution_count": 15,
   "metadata": {},
   "outputs": [],
   "source": [
    "var dataWithPredictions = pipeline.Fit(dataView).Transform(dataView);"
   ]
  },
  {
   "cell_type": "markdown",
   "metadata": {},
   "source": [
    "At this point, the Label column is transformed from strings, to DataViewKeyType and the transformation has added the PredictedLabel column, with same DataViewKeyType as transformed Label column. \n",
    "\n",
    "MapKeyToValue would take columns with DataViewKeyType and convert them back to their original values"
   ]
  },
  {
   "cell_type": "code",
   "execution_count": 16,
   "metadata": {},
   "outputs": [],
   "source": [
    "var newPipeline = mlContext.Transforms.Conversion.MapKeyToValue(new[]\n",
    "{\n",
    "    new InputOutputColumnPair(\"LabelOriginalValue\",\"Label\"),\n",
    "    new InputOutputColumnPair(\"PredictedLabelOriginalValue\", \"PredictedLabel\")\n",
    "\n",
    "});"
   ]
  },
  {
   "cell_type": "code",
   "execution_count": 17,
   "metadata": {},
   "outputs": [],
   "source": [
    "var transformedData = newPipeline.Fit(dataWithPredictions).Transform(dataWithPredictions);"
   ]
  },
  {
   "cell_type": "code",
   "execution_count": 19,
   "metadata": {},
   "outputs": [
    {
     "data": {
      "text/html": [
       "<table><thead><tr><th><i>index</i></th><th>Label</th><th>PredictedLabel</th><th>LabelOriginalValue</th><th>PredictedLabelOriginalValue</th></tr></thead><tbody><tr><td>0</td><td>1</td><td>1</td><td>AA</td><td>AA</td></tr><tr><td>1</td><td>2</td><td>2</td><td>BB</td><td>BB</td></tr><tr><td>2</td><td>3</td><td>3</td><td>CC</td><td>CC</td></tr><tr><td>3</td><td>4</td><td>4</td><td>DD</td><td>DD</td></tr><tr><td>4</td><td>1</td><td>1</td><td>AA</td><td>AA</td></tr></tbody></table>"
      ]
     },
     "execution_count": 19,
     "metadata": {},
     "output_type": "execute_result"
    }
   ],
   "source": [
    "// Let's iterate over first 5 items.\n",
    "transformedData = mlContext.Data.TakeRows(transformedData, 5);\n",
    "mlContext.Data.CreateEnumerable<TransformedData>(transformedData, reuseRowObject: false)"
   ]
  }
 ],
 "metadata": {
  "kernelspec": {
   "display_name": ".NET (C#)",
   "language": "C#",
   "name": ".net-csharp"
  },
  "language_info": {
   "file_extension": ".cs",
   "mimetype": "text/x-csharp",
   "name": "C#",
   "pygments_lexer": "csharp",
   "version": "8.0"
  }
 },
 "nbformat": 4,
 "nbformat_minor": 4
}

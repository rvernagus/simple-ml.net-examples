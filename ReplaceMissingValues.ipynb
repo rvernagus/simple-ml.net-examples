{
 "cells": [
  {
   "cell_type": "code",
   "execution_count": 2,
   "metadata": {},
   "outputs": [
    {
     "data": {
      "text/html": [
       "Installed package Microsoft.ML version 1.5.5"
      ]
     },
     "metadata": {},
     "output_type": "display_data"
    }
   ],
   "source": [
    "#r \"nuget: Microsoft.ML\"\n",
    "using Microsoft.ML;\n",
    "using Microsoft.ML.Data;\n",
    "using Microsoft.ML.Transforms;"
   ]
  },
  {
   "cell_type": "markdown",
   "metadata": {},
   "source": [
    "This example comes from the ML.NET documentation: https://docs.microsoft.com/en-us/dotnet/api/microsoft.ml.extensionscatalog.replacemissingvalues?view=ml-dotnet"
   ]
  },
  {
   "cell_type": "code",
   "execution_count": 3,
   "metadata": {},
   "outputs": [],
   "source": [
    "class DataPoint\n",
    "{\n",
    "    [VectorType(3)]\n",
    "    public float[] Features1 { get; set; }\n",
    "    [VectorType(2)]\n",
    "    public float[] Features2 { get; set; }\n",
    "}\n",
    "\n",
    "class SampleDataTransformed : DataPoint\n",
    "{\n",
    "    [VectorType(3)]\n",
    "    public float[] MissingReplaced1 { get; set; }\n",
    "    [VectorType(2)]\n",
    "    public float[] MissingReplaced2 { get; set; }\n",
    "}"
   ]
  },
  {
   "cell_type": "code",
   "execution_count": 4,
   "metadata": {},
   "outputs": [],
   "source": [
    "var mlContext = new MLContext();"
   ]
  },
  {
   "cell_type": "code",
   "execution_count": 5,
   "metadata": {},
   "outputs": [],
   "source": [
    "var samples = new List<DataPoint>()\n",
    "{\n",
    "    new DataPoint(){ Features1 = new float[3] {1, 1, 0}, Features2 = new float[2] {1, 1} },\n",
    "    new DataPoint(){ Features1 = new float[3] {0, float.NaN, 1}, Features2 = new float[2] {0, 1} },\n",
    "    new DataPoint(){ Features1 = new float[3] {-1, float.NaN, -3}, Features2 = new float[2] {-1, float.NaN} },\n",
    "    new DataPoint(){ Features1 = new float[3] {-1, 6, -3}, Features2 = new float[2] {0, float.PositiveInfinity} },\n",
    "};"
   ]
  },
  {
   "cell_type": "code",
   "execution_count": 6,
   "metadata": {},
   "outputs": [],
   "source": [
    "var data = mlContext.Data.LoadFromEnumerable(samples);"
   ]
  },
  {
   "cell_type": "markdown",
   "metadata": {},
   "source": [
    "Here we use the default replacement mode, which replaces the value with the default value for its type."
   ]
  },
  {
   "cell_type": "code",
   "execution_count": 7,
   "metadata": {},
   "outputs": [],
   "source": [
    "var defaultPipeline = mlContext.Transforms.ReplaceMissingValues(\n",
    "    new[] {\n",
    "        new InputOutputColumnPair(\"MissingReplaced1\", \"Features1\"),\n",
    "        new InputOutputColumnPair(\"MissingReplaced2\", \"Features2\")\n",
    "    },\n",
    "    MissingValueReplacingEstimator.ReplacementMode.DefaultValue\n",
    ");"
   ]
  },
  {
   "cell_type": "code",
   "execution_count": 8,
   "metadata": {},
   "outputs": [],
   "source": [
    "var defaultTransformer = defaultPipeline.Fit(data);\n",
    "var defaultTransformedData = defaultTransformer.Transform(data);"
   ]
  },
  {
   "cell_type": "code",
   "execution_count": 9,
   "metadata": {},
   "outputs": [
    {
     "data": {
      "text/html": [
       "<table><thead><tr><th><i>index</i></th><th>MissingReplaced1</th><th>MissingReplaced2</th><th>Features1</th><th>Features2</th></tr></thead><tbody><tr><td>0</td><td>[ 1, 1, 0 ]</td><td>[ 1, 1 ]</td><td>[ 1, 1, 0 ]</td><td>[ 1, 1 ]</td></tr><tr><td>1</td><td>[ 0, 0, 1 ]</td><td>[ 0, 1 ]</td><td>[ 0, NaN, 1 ]</td><td>[ 0, 1 ]</td></tr><tr><td>2</td><td>[ -1, 0, -3 ]</td><td>[ -1, 0 ]</td><td>[ -1, NaN, -3 ]</td><td>[ -1, NaN ]</td></tr><tr><td>3</td><td>[ -1, 6, -3 ]</td><td>[ 0, Infinity ]</td><td>[ -1, 6, -3 ]</td><td>[ 0, Infinity ]</td></tr></tbody></table>"
      ]
     },
     "execution_count": 9,
     "metadata": {},
     "output_type": "execute_result"
    }
   ],
   "source": [
    "mlContext.Data.CreateEnumerable<SampleDataTransformed>(defaultTransformedData, reuseRowObject: false)"
   ]
  },
  {
   "cell_type": "markdown",
   "metadata": {},
   "source": [
    "Here we use the mean replacement mode, which replaces the value with the mean of the non values that were not missing."
   ]
  },
  {
   "cell_type": "code",
   "execution_count": 10,
   "metadata": {},
   "outputs": [],
   "source": [
    "var meanPipeline = mlContext.Transforms.ReplaceMissingValues(\n",
    "    new[] {\n",
    "        new InputOutputColumnPair(\"MissingReplaced1\", \"Features1\"),\n",
    "        new InputOutputColumnPair(\"MissingReplaced2\", \"Features2\")\n",
    "    },\n",
    "    MissingValueReplacingEstimator.ReplacementMode.Mean\n",
    ");"
   ]
  },
  {
   "cell_type": "code",
   "execution_count": 11,
   "metadata": {},
   "outputs": [],
   "source": [
    "var meanTransformer = meanPipeline.Fit(data);\n",
    "var meanTransformedData = meanTransformer.Transform(data);"
   ]
  },
  {
   "cell_type": "code",
   "execution_count": 12,
   "metadata": {},
   "outputs": [
    {
     "data": {
      "text/html": [
       "<table><thead><tr><th><i>index</i></th><th>MissingReplaced1</th><th>MissingReplaced2</th><th>Features1</th><th>Features2</th></tr></thead><tbody><tr><td>0</td><td>[ 1, 1, 0 ]</td><td>[ 1, 1 ]</td><td>[ 1, 1, 0 ]</td><td>[ 1, 1 ]</td></tr><tr><td>1</td><td>[ 0, 3.5, 1 ]</td><td>[ 0, 1 ]</td><td>[ 0, NaN, 1 ]</td><td>[ 0, 1 ]</td></tr><tr><td>2</td><td>[ -1, 3.5, -3 ]</td><td>[ -1, 1 ]</td><td>[ -1, NaN, -3 ]</td><td>[ -1, NaN ]</td></tr><tr><td>3</td><td>[ -1, 6, -3 ]</td><td>[ 0, Infinity ]</td><td>[ -1, 6, -3 ]</td><td>[ 0, Infinity ]</td></tr></tbody></table>"
      ]
     },
     "execution_count": 12,
     "metadata": {},
     "output_type": "execute_result"
    }
   ],
   "source": [
    "mlContext.Data.CreateEnumerable<SampleDataTransformed>(meanTransformedData, reuseRowObject: false)"
   ]
  }
 ],
 "metadata": {
  "kernelspec": {
   "display_name": ".NET (C#)",
   "language": "C#",
   "name": ".net-csharp"
  },
  "language_info": {
   "file_extension": ".cs",
   "mimetype": "text/x-csharp",
   "name": "C#",
   "pygments_lexer": "csharp",
   "version": "8.0"
  }
 },
 "nbformat": 4,
 "nbformat_minor": 4
}

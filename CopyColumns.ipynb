{
 "cells": [
  {
   "cell_type": "code",
   "execution_count": 1,
   "metadata": {},
   "outputs": [
    {
     "data": {
      "text/html": [
       "Installed package Microsoft.ML version 1.5.5"
      ]
     },
     "metadata": {},
     "output_type": "display_data"
    }
   ],
   "source": [
    "#r \"nuget: Microsoft.ML\"\n",
    "using Microsoft.ML;\n",
    "using Microsoft.ML.Data;\n",
    "using System.Linq;"
   ]
  },
  {
   "cell_type": "markdown",
   "metadata": {},
   "source": [
    "This example comes from the ML.NET documentation: https://docs.microsoft.com/en-us/dotnet/api/microsoft.ml.transformextensionscatalog.copycolumns?view=ml-dotnet"
   ]
  },
  {
   "cell_type": "code",
   "execution_count": 2,
   "metadata": {},
   "outputs": [],
   "source": [
    "class InputData\n",
    "{\n",
    "    public int ImageId { get; set; }\n",
    "    public float[] Features { get; set; }\n",
    "}\n",
    "\n",
    "class TransformedData : InputData\n",
    "{\n",
    "    public int Label { get; set; }\n",
    "}"
   ]
  },
  {
   "cell_type": "code",
   "execution_count": 3,
   "metadata": {},
   "outputs": [],
   "source": [
    "var mlContext = new MLContext();"
   ]
  },
  {
   "cell_type": "code",
   "execution_count": 4,
   "metadata": {},
   "outputs": [],
   "source": [
    "var samples = new List<InputData>()\n",
    "{\n",
    "    new InputData(){ ImageId = 1, Features = new [] { 1.0f, 1.0f, 1.0f } },\n",
    "    new InputData(){ ImageId = 2, Features = new [] { 2.0f, 2.0f, 2.0f } },\n",
    "    new InputData(){ ImageId = 3, Features = new [] { 3.0f, 3.0f, 3.0f } },\n",
    "    new InputData(){ ImageId = 4, Features = new [] { 4.0f, 4.0f, 4.0f } },\n",
    "    new InputData(){ ImageId = 5, Features = new [] { 5.0f, 5.0f, 5.0f } },\n",
    "    new InputData(){ ImageId = 6, Features = new [] { 6.0f, 6.0f, 6.0f } },\n",
    "};"
   ]
  },
  {
   "cell_type": "code",
   "execution_count": 5,
   "metadata": {},
   "outputs": [],
   "source": [
    "var dataview = mlContext.Data.LoadFromEnumerable(samples);"
   ]
  },
  {
   "cell_type": "markdown",
   "metadata": {},
   "source": [
    "CopyColumns is commonly used to rename columns. For example, if you want to train towards ImageId, and your trainer expects a \"Label\" column, you can use CopyColumns to rename ImageId to Label. Technically, the ImageId column still exists, but it won't be materialized unless you actually need it somewhere (e.g. if you were to save the transformed data without explicitly dropping the column). This is a general property of IDataView's lazy evaluation."
   ]
  },
  {
   "cell_type": "code",
   "execution_count": 6,
   "metadata": {},
   "outputs": [],
   "source": [
    "var pipeline = mlContext.Transforms.CopyColumns(\"Label\", \"ImageId\");"
   ]
  },
  {
   "cell_type": "code",
   "execution_count": 7,
   "metadata": {},
   "outputs": [],
   "source": [
    "var transformedData = pipeline.Fit(dataview).Transform(dataview);"
   ]
  },
  {
   "cell_type": "code",
   "execution_count": 8,
   "metadata": {},
   "outputs": [
    {
     "data": {
      "text/html": [
       "<table><thead><tr><th><i>index</i></th><th>Label</th><th>ImageId</th><th>Features</th></tr></thead><tbody><tr><td>0</td><td>1</td><td>1</td><td>[ 1, 1, 1 ]</td></tr><tr><td>1</td><td>2</td><td>2</td><td>[ 2, 2, 2 ]</td></tr><tr><td>2</td><td>3</td><td>3</td><td>[ 3, 3, 3 ]</td></tr><tr><td>3</td><td>4</td><td>4</td><td>[ 4, 4, 4 ]</td></tr><tr><td>4</td><td>5</td><td>5</td><td>[ 5, 5, 5 ]</td></tr><tr><td>5</td><td>6</td><td>6</td><td>[ 6, 6, 6 ]</td></tr></tbody></table>"
      ]
     },
     "execution_count": 8,
     "metadata": {},
     "output_type": "execute_result"
    }
   ],
   "source": [
    "mlContext.Data.CreateEnumerable<TransformedData>(transformedData, reuseRowObject: false)"
   ]
  }
 ],
 "metadata": {
  "kernelspec": {
   "display_name": ".NET (C#)",
   "language": "C#",
   "name": ".net-csharp"
  },
  "language_info": {
   "file_extension": ".cs",
   "mimetype": "text/x-csharp",
   "name": "C#",
   "pygments_lexer": "csharp",
   "version": "8.0"
  }
 },
 "nbformat": 4,
 "nbformat_minor": 4
}

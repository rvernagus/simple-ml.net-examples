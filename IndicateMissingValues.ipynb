{
 "cells": [
  {
   "cell_type": "code",
   "execution_count": 1,
   "metadata": {},
   "outputs": [
    {
     "data": {
      "text/html": [
       "Installed package Microsoft.ML version 1.5.5"
      ]
     },
     "metadata": {},
     "output_type": "display_data"
    }
   ],
   "source": [
    "#r \"nuget: Microsoft.ML\"\n",
    "using Microsoft.ML;\n",
    "using Microsoft.ML.Data;"
   ]
  },
  {
   "cell_type": "markdown",
   "metadata": {},
   "source": [
    "This example comes from the ML.NET documentation: https://docs.microsoft.com/en-us/dotnet/api/microsoft.ml.extensionscatalog.indicatemissingvalues?view=ml-dotnet"
   ]
  },
  {
   "cell_type": "code",
   "execution_count": 2,
   "metadata": {},
   "outputs": [],
   "source": [
    "class DataPoint\n",
    "{\n",
    "    [VectorType(3)]\n",
    "    public float[] Features1 { get; set; }\n",
    "    [VectorType(2)]\n",
    "    public float[] Features2 { get; set; }\n",
    "}\n",
    "\n",
    "class SampleDataTransformed : DataPoint\n",
    "{\n",
    "    public bool[] MissingIndicator1 { get; set; }\n",
    "    public bool[] MissingIndicator2 { get; set; }\n",
    "\n",
    "}"
   ]
  },
  {
   "cell_type": "code",
   "execution_count": 3,
   "metadata": {},
   "outputs": [],
   "source": [
    "var mlContext = new MLContext();"
   ]
  },
  {
   "cell_type": "code",
   "execution_count": 4,
   "metadata": {},
   "outputs": [],
   "source": [
    "var samples = new List<DataPoint>()\n",
    "{\n",
    "    new DataPoint(){ Features1 = new float[3] {1, 1, 0},           Features2 = new float[2] {1, 1} },\n",
    "    new DataPoint(){ Features1 = new float[3] {0, float.NaN, 1},   Features2 = new float[2] {float.NaN, 1} },\n",
    "    new DataPoint(){ Features1 = new float[3] {-1, float.NaN, -3}, Features2 = new float[2] {1, float.PositiveInfinity} },\n",
    "};"
   ]
  },
  {
   "cell_type": "code",
   "execution_count": 5,
   "metadata": {},
   "outputs": [],
   "source": [
    "var data = mlContext.Data.LoadFromEnumerable(samples);"
   ]
  },
  {
   "cell_type": "markdown",
   "metadata": {},
   "source": [
    "IndicateMissingValues is used to create a boolean containing 'true' where the value in the input column is missing. For floats and doubles, missing values are NaN. We can use an array of InputOutputColumnPair to apply the MissingValueIndicatorEstimator to multiple columns in one pass over the data."
   ]
  },
  {
   "cell_type": "code",
   "execution_count": 6,
   "metadata": {},
   "outputs": [],
   "source": [
    "var pipeline = mlContext.Transforms.IndicateMissingValues(new[] {\n",
    "    new InputOutputColumnPair(\"MissingIndicator1\", \"Features1\"),\n",
    "    new InputOutputColumnPair(\"MissingIndicator2\", \"Features2\")\n",
    "});"
   ]
  },
  {
   "cell_type": "code",
   "execution_count": 7,
   "metadata": {},
   "outputs": [],
   "source": [
    "var tansformer = pipeline.Fit(data);\n",
    "var transformedData = tansformer.Transform(data);"
   ]
  },
  {
   "cell_type": "code",
   "execution_count": 8,
   "metadata": {},
   "outputs": [
    {
     "data": {
      "text/html": [
       "<table><thead><tr><th><i>index</i></th><th>MissingIndicator1</th><th>MissingIndicator2</th><th>Features1</th><th>Features2</th></tr></thead><tbody><tr><td>0</td><td>[ False, False, False ]</td><td>[ False, False ]</td><td>[ 1, 1, 0 ]</td><td>[ 1, 1 ]</td></tr><tr><td>1</td><td>[ False, True, False ]</td><td>[ True, False ]</td><td>[ 0, NaN, 1 ]</td><td>[ NaN, 1 ]</td></tr><tr><td>2</td><td>[ False, True, False ]</td><td>[ False, False ]</td><td>[ -1, NaN, -3 ]</td><td>[ 1, Infinity ]</td></tr></tbody></table>"
      ]
     },
     "execution_count": 8,
     "metadata": {},
     "output_type": "execute_result"
    }
   ],
   "source": [
    "mlContext.Data.CreateEnumerable<SampleDataTransformed>(transformedData, reuseRowObject: false)"
   ]
  }
 ],
 "metadata": {
  "kernelspec": {
   "display_name": ".NET (C#)",
   "language": "C#",
   "name": ".net-csharp"
  },
  "language_info": {
   "file_extension": ".cs",
   "mimetype": "text/x-csharp",
   "name": "C#",
   "pygments_lexer": "csharp",
   "version": "8.0"
  }
 },
 "nbformat": 4,
 "nbformat_minor": 4
}

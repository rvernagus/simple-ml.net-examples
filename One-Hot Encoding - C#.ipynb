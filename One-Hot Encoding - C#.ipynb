{
 "cells": [
  {
   "cell_type": "code",
   "execution_count": 2,
   "metadata": {},
   "outputs": [
    {
     "data": {
      "text/html": [
       "Installed package Microsoft.ML version 1.4.0"
      ]
     },
     "metadata": {},
     "output_type": "display_data"
    }
   ],
   "source": [
    "#r \"nuget: Microsoft.ML\"\n",
    "using Microsoft.ML;\n",
    "using Microsoft.ML.Data;\n",
    "using System.IO;\n",
    "using System.Net;"
   ]
  },
  {
   "cell_type": "markdown",
   "metadata": {},
   "source": [
    "Create a class that represents our data:"
   ]
  },
  {
   "cell_type": "code",
   "execution_count": 3,
   "metadata": {},
   "outputs": [],
   "source": [
    "class AbaloneData\n",
    "{\n",
    "    [LoadColumn(0)]\n",
    "    public string Sex { get; set; }\n",
    "\n",
    "    [LoadColumn(1)]\n",
    "    public float Length { get; set; }\n",
    "\n",
    "    [LoadColumn(2)]\n",
    "    public float Diameter { get; set; }\n",
    "\n",
    "    [LoadColumn(3)]\n",
    "    public float Height { get; set; }\n",
    "\n",
    "    [LoadColumn(4)]\n",
    "    public float WholeWeight { get; set; }\n",
    "\n",
    "    [LoadColumn(5)]\n",
    "    public float ShuckedWeight { get; set; }\n",
    "\n",
    "    [LoadColumn(6)]\n",
    "    public float VisceraWeight { get; set; }\n",
    "\n",
    "    [LoadColumn(7)]\n",
    "    public float ShellWeight { get; set; }\n",
    "\n",
    "    [LoadColumn(8)]\n",
    "    public float Rings { get; set; }\n",
    "}"
   ]
  },
  {
   "cell_type": "markdown",
   "metadata": {},
   "source": [
    "Download the data from [UCI Machine Learning Repository](https://archive.ics.uci.edu/ml/machine-learning-databases/abalone):"
   ]
  },
  {
   "cell_type": "code",
   "execution_count": 10,
   "metadata": {},
   "outputs": [
    {
     "data": {
      "text/html": [
       "<table><thead><tr><th><i>index</i></th><th>value</th></tr></thead><tbody><tr><td>0</td><td>M,0.455,0.365,0.095,0.514,0.2245,0.101,0.15,15</td></tr><tr><td>1</td><td>M,0.35,0.265,0.09,0.2255,0.0995,0.0485,0.07,7</td></tr><tr><td>2</td><td>F,0.53,0.42,0.135,0.677,0.2565,0.1415,0.21,9</td></tr><tr><td>3</td><td>M,0.44,0.365,0.125,0.516,0.2155,0.114,0.155,10</td></tr><tr><td>4</td><td>I,0.33,0.255,0.08,0.205,0.0895,0.0395,0.055,7</td></tr></tbody></table>"
      ]
     },
     "execution_count": 10,
     "metadata": {},
     "output_type": "execute_result"
    }
   ],
   "source": [
    "if (!File.Exists(\"abalone.data\"))\n",
    "{\n",
    "    using var client = new WebClient();\n",
    "    client.DownloadFile(\"https://archive.ics.uci.edu/ml/machine-learning-databases/abalone/abalone.data\", \"abalone.data\");\n",
    "}\n",
    "File.ReadLines(\"abalone.data\").Take(5)"
   ]
  },
  {
   "cell_type": "markdown",
   "metadata": {},
   "source": [
    "Create a new MLContext:"
   ]
  },
  {
   "cell_type": "code",
   "execution_count": 5,
   "metadata": {},
   "outputs": [],
   "source": [
    "var context = new MLContext();"
   ]
  },
  {
   "cell_type": "markdown",
   "metadata": {},
   "source": [
    "Read the data in the file:"
   ]
  },
  {
   "cell_type": "code",
   "execution_count": 6,
   "metadata": {},
   "outputs": [],
   "source": [
    "var dataView = context.Data.LoadFromTextFile<AbaloneData>(\"abalone.data\", hasHeader: false, separatorChar: ',');"
   ]
  },
  {
   "cell_type": "markdown",
   "metadata": {},
   "source": [
    "Create a One-Hot Encoder:"
   ]
  },
  {
   "cell_type": "code",
   "execution_count": 7,
   "metadata": {},
   "outputs": [],
   "source": [
    "var encoder = context.Transforms.Categorical.OneHotEncoding(inputColumnName: \"Sex\", outputColumnName: \"EncodedSex\");"
   ]
  },
  {
   "cell_type": "markdown",
   "metadata": {},
   "source": [
    "Create a transformer and fit it to the data:"
   ]
  },
  {
   "cell_type": "code",
   "execution_count": 8,
   "metadata": {},
   "outputs": [],
   "source": [
    "var transformer = encoder.Fit(dataView);\n",
    "var transformedDataView = transformer.Transform(dataView);"
   ]
  },
  {
   "cell_type": "markdown",
   "metadata": {},
   "source": [
    "Create a class to hold the value and its encoding:"
   ]
  },
  {
   "cell_type": "code",
   "execution_count": 12,
   "metadata": {},
   "outputs": [],
   "source": [
    "class SexEncoding\n",
    "{\n",
    "    public string Sex { get; set; }\n",
    "    public float[] EncodedSex { get; set; }\n",
    "\n",
    "    public override string ToString() => $\"{Sex}; [{string.Join(\",\", EncodedSex)}]\";\n",
    "}"
   ]
  },
  {
   "cell_type": "markdown",
   "metadata": {},
   "source": [
    "Encode the data and randomly select 10:"
   ]
  },
  {
   "cell_type": "code",
   "execution_count": 14,
   "metadata": {},
   "outputs": [
    {
     "data": {
      "text/html": [
       "<table><thead><tr><th><i>index</i></th><th>Sex</th><th>EncodedSex</th></tr></thead><tbody><tr><td>0</td><td>I</td><td>[ 0, 0, 1 ]</td></tr><tr><td>1</td><td>M</td><td>[ 1, 0, 0 ]</td></tr><tr><td>2</td><td>M</td><td>[ 1, 0, 0 ]</td></tr><tr><td>3</td><td>M</td><td>[ 1, 0, 0 ]</td></tr><tr><td>4</td><td>M</td><td>[ 1, 0, 0 ]</td></tr><tr><td>5</td><td>I</td><td>[ 0, 0, 1 ]</td></tr><tr><td>6</td><td>M</td><td>[ 1, 0, 0 ]</td></tr><tr><td>7</td><td>F</td><td>[ 0, 1, 0 ]</td></tr><tr><td>8</td><td>F</td><td>[ 0, 1, 0 ]</td></tr><tr><td>9</td><td>M</td><td>[ 1, 0, 0 ]</td></tr></tbody></table>"
      ]
     },
     "execution_count": 14,
     "metadata": {},
     "output_type": "execute_result"
    }
   ],
   "source": [
    "var encodedLabels = context.Data.CreateEnumerable<SexComparer>(transformedDataView, reuseRowObject: false);\n",
    "\n",
    "var rand = new Random();\n",
    "\n",
    "encodedLabels\n",
    "    .OrderBy(_ => rand.Next())\n",
    "    .Take(10)"
   ]
  },
  {
   "cell_type": "code",
   "execution_count": null,
   "metadata": {},
   "outputs": [],
   "source": []
  }
 ],
 "metadata": {
  "kernelspec": {
   "display_name": ".NET (C#)",
   "language": "C#",
   "name": ".net-csharp"
  },
  "language_info": {
   "name": ""
  }
 },
 "nbformat": 4,
 "nbformat_minor": 4
}

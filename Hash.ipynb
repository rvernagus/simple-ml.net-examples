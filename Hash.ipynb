{
 "cells": [
  {
   "cell_type": "code",
   "execution_count": 7,
   "metadata": {},
   "outputs": [
    {
     "data": {
      "text/html": [
       "Installing package Microsoft.ML........"
      ]
     },
     "metadata": {},
     "output_type": "display_data"
    }
   ],
   "source": [
    "#r \"nuget: Microsoft.ML\"\n",
    "using Microsoft.ML;\n",
    "using Microsoft.ML.Data;\n",
    "using Microsoft.ML.Transforms;"
   ]
  },
  {
   "cell_type": "markdown",
   "metadata": {},
   "source": [
    "This example comes from the ML.NET documentation: https://docs.microsoft.com/en-us/dotnet/api/microsoft.ml.conversionsextensionscatalog.mapkeytovalue?view=ml-dotnet"
   ]
  },
  {
   "cell_type": "code",
   "execution_count": 2,
   "metadata": {},
   "outputs": [],
   "source": [
    "class DataPoint\n",
    "{\n",
    "    public string Category { get; set; }\n",
    "    public uint Age { get; set; }\n",
    "}\n",
    "\n",
    "class TransformedDataPoint : DataPoint\n",
    "{\n",
    "    public uint CategoryHashed { get; set; }\n",
    "    public uint AgeHashed { get; set; }\n",
    "}"
   ]
  },
  {
   "cell_type": "code",
   "execution_count": 3,
   "metadata": {},
   "outputs": [],
   "source": [
    "var mlContext = new MLContext(seed: 1);"
   ]
  },
  {
   "cell_type": "code",
   "execution_count": 4,
   "metadata": {},
   "outputs": [],
   "source": [
    "var rawData = new[] {\n",
    "    new DataPoint() { Category = \"MLB\" , Age = 18 },\n",
    "    new DataPoint() { Category = \"NFL\" , Age = 14 },\n",
    "    new DataPoint() { Category = \"NFL\" , Age = 15 },\n",
    "    new DataPoint() { Category = \"MLB\" , Age = 18 },\n",
    "    new DataPoint() { Category = \"MLS\" , Age = 14 },\n",
    "};"
   ]
  },
  {
   "cell_type": "code",
   "execution_count": 5,
   "metadata": {},
   "outputs": [],
   "source": [
    "var data = mlContext.Data.LoadFromEnumerable(rawData);"
   ]
  },
  {
   "cell_type": "markdown",
   "metadata": {},
   "source": [
    "Construct the pipeline that would hash the two columns and store the results in new columns. The first transform hashes the string column and the second transform hashes the integer column.\n",
    "            \n",
    "Hashing is not a reversible operation, so there is no way to retrieve the original value from the hashed value. Sometimes, for debugging, or model explainability, users will need to know what values in the original columns generated the values in the hashed columns, since the algorithms will mostly use the hashed values for further computations. The Hash method will preserve the mapping from the original values to the hashed values in the Annotations of the newly created column (column populated with the hashed values). \n",
    "\n",
    "Setting the maximumNumberOfInverts parameters to -1 will preserve the full map. If that parameter is left to the default 0 value, the mapping is not preserved."
   ]
  },
  {
   "cell_type": "code",
   "execution_count": 8,
   "metadata": {},
   "outputs": [],
   "source": [
    "var pipeline = mlContext.Transforms.Conversion.Hash(\n",
    "    new[]\n",
    "    {\n",
    "            new HashingEstimator.ColumnOptions(\n",
    "                \"CategoryHashed\",\n",
    "                \"Category\",\n",
    "                16,\n",
    "                useOrderedHashing: false,\n",
    "                maximumNumberOfInverts: -1),\n",
    "\n",
    "            new HashingEstimator.ColumnOptions(\n",
    "                \"AgeHashed\",\n",
    "                \"Age\",\n",
    "                8,\n",
    "                useOrderedHashing: false)\n",
    "    }\n",
    ");"
   ]
  },
  {
   "cell_type": "code",
   "execution_count": 9,
   "metadata": {},
   "outputs": [],
   "source": [
    "var transformer = pipeline.Fit(data);\n",
    "var transformedData = transformer.Transform(data);"
   ]
  },
  {
   "cell_type": "code",
   "execution_count": 10,
   "metadata": {},
   "outputs": [
    {
     "data": {
      "text/html": [
       "<table><thead><tr><th><i>index</i></th><th>CategoryHashed</th><th>AgeHashed</th><th>Category</th><th>Age</th></tr></thead><tbody><tr><td>0</td><td>16967</td><td>204</td><td>MLB</td><td>18</td></tr><tr><td>1</td><td>24263</td><td>31</td><td>NFL</td><td>14</td></tr><tr><td>2</td><td>24263</td><td>72</td><td>NFL</td><td>15</td></tr><tr><td>3</td><td>16967</td><td>204</td><td>MLB</td><td>18</td></tr><tr><td>4</td><td>58334</td><td>31</td><td>MLS</td><td>14</td></tr></tbody></table>"
      ]
     },
     "execution_count": 10,
     "metadata": {},
     "output_type": "execute_result"
    }
   ],
   "source": [
    "mlContext.Data.CreateEnumerable<TransformedDataPoint>(transformedData, true)"
   ]
  }
 ],
 "metadata": {
  "kernelspec": {
   "display_name": ".NET (C#)",
   "language": "C#",
   "name": ".net-csharp"
  },
  "language_info": {
   "file_extension": ".cs",
   "mimetype": "text/x-csharp",
   "name": "C#",
   "pygments_lexer": "csharp",
   "version": "8.0"
  }
 },
 "nbformat": 4,
 "nbformat_minor": 4
}

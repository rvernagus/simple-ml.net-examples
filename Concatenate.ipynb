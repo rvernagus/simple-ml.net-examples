{
 "cells": [
  {
   "cell_type": "code",
   "execution_count": 1,
   "metadata": {},
   "outputs": [
    {
     "data": {
      "text/html": [
       "Installed package Microsoft.ML version 1.5.5"
      ]
     },
     "metadata": {},
     "output_type": "display_data"
    }
   ],
   "source": [
    "#r \"nuget: Microsoft.ML\"\n",
    "using Microsoft.ML;\n",
    "using Microsoft.ML.Data;\n",
    "using System.Linq;"
   ]
  },
  {
   "cell_type": "markdown",
   "metadata": {},
   "source": [
    "This example comes from the ML.NET documentation: https://docs.microsoft.com/en-us/dotnet/api/microsoft.ml.transformextensionscatalog.concatenate?view=ml-dotnet"
   ]
  },
  {
   "cell_type": "code",
   "execution_count": 2,
   "metadata": {},
   "outputs": [],
   "source": [
    "class InputData\n",
    "{\n",
    "    public float Feature1;\n",
    "\n",
    "    [VectorType(3)]\n",
    "    public float[] Feature2;\n",
    "    \n",
    "    public int Feature3;\n",
    "}\n",
    "\n",
    "class TransformedData\n",
    "{\n",
    "    public float[] Features { get; set; }\n",
    "}"
   ]
  },
  {
   "cell_type": "code",
   "execution_count": 3,
   "metadata": {},
   "outputs": [],
   "source": [
    "var samples = new List<InputData>()\n",
    "{\n",
    "    new InputData(){ Feature1 = 0.1f, Feature2 = new[]{ 1.1f, 2.1f, 3.1f }, Feature3 = 1 },\n",
    "    new InputData(){ Feature1 = 0.2f, Feature2 = new[]{ 1.2f, 2.2f, 3.2f }, Feature3 = 2 },\n",
    "    new InputData(){ Feature1 = 0.3f, Feature2 = new[]{ 1.3f, 2.3f, 3.3f }, Feature3 = 3 },\n",
    "    new InputData(){ Feature1 = 0.4f, Feature2 = new[]{ 1.4f, 2.4f, 3.4f }, Feature3 = 4 },\n",
    "    new InputData(){ Feature1 = 0.5f, Feature2 = new[]{ 1.5f, 2.5f, 3.5f }, Feature3 = 5 },\n",
    "    new InputData(){ Feature1 = 0.6f, Feature2 = new[]{ 1.6f, 2.6f, 3.6f }, Feature3 = 6 },\n",
    "};"
   ]
  },
  {
   "cell_type": "code",
   "execution_count": 4,
   "metadata": {},
   "outputs": [],
   "source": [
    "var mlContext = new MLContext();"
   ]
  },
  {
   "cell_type": "code",
   "execution_count": 5,
   "metadata": {},
   "outputs": [],
   "source": [
    "var dataview = mlContext.Data.LoadFromEnumerable(samples);"
   ]
  },
  {
   "cell_type": "markdown",
   "metadata": {},
   "source": [
    "A pipeline for concatenating the \"Feature1\", \"Feature2\" and \"Feature3\" columns together into a vector that will be the Features column. Concatenation is necessary because trainers take feature vectors as inputs.\n",
    "\n",
    "Please note that the \"Feature3\" column is converted from int32 to float using the ConvertType. The Concatenate requires all columns to be of same type."
   ]
  },
  {
   "cell_type": "code",
   "execution_count": 6,
   "metadata": {},
   "outputs": [],
   "source": [
    "var pipeline = mlContext.Transforms.Conversion.ConvertType(\"Feature3\", outputKind: DataKind.Single)\n",
    "    .Append(mlContext.Transforms.Concatenate(\"Features\", new[] { \"Feature1\", \"Feature2\", \"Feature3\" }));"
   ]
  },
  {
   "cell_type": "code",
   "execution_count": 7,
   "metadata": {},
   "outputs": [],
   "source": [
    "var transformedData = pipeline.Fit(dataview).Transform(dataview);"
   ]
  },
  {
   "cell_type": "code",
   "execution_count": 8,
   "metadata": {},
   "outputs": [
    {
     "data": {
      "text/html": [
       "<table><thead><tr><th><i>index</i></th><th>Features</th></tr></thead><tbody><tr><td>0</td><td>[ 0.1, 1.1, 2.1, 3.1, 1 ]</td></tr><tr><td>1</td><td>[ 0.2, 1.2, 2.2, 3.2, 2 ]</td></tr><tr><td>2</td><td>[ 0.3, 1.3, 2.3, 3.3, 3 ]</td></tr><tr><td>3</td><td>[ 0.4, 1.4, 2.4, 3.4, 4 ]</td></tr><tr><td>4</td><td>[ 0.5, 1.5, 2.5, 3.5, 5 ]</td></tr><tr><td>5</td><td>[ 0.6, 1.6, 2.6, 3.6, 6 ]</td></tr></tbody></table>"
      ]
     },
     "execution_count": 8,
     "metadata": {},
     "output_type": "execute_result"
    }
   ],
   "source": [
    "mlContext.Data.CreateEnumerable<TransformedData>(transformedData, reuseRowObject: false)"
   ]
  }
 ],
 "metadata": {
  "kernelspec": {
   "display_name": ".NET (C#)",
   "language": "C#",
   "name": ".net-csharp"
  },
  "language_info": {
   "file_extension": ".cs",
   "mimetype": "text/x-csharp",
   "name": "C#",
   "pygments_lexer": "csharp",
   "version": "8.0"
  }
 },
 "nbformat": 4,
 "nbformat_minor": 4
}

{
 "cells": [
  {
   "cell_type": "code",
   "execution_count": 1,
   "metadata": {},
   "outputs": [
    {
     "data": {
      "text/html": [
       "Installed package Microsoft.ML version 1.5.5"
      ]
     },
     "metadata": {},
     "output_type": "display_data"
    }
   ],
   "source": [
    "#r \"nuget: Microsoft.ML\"\n",
    "using Microsoft.ML;\n",
    "using Microsoft.ML.Data;"
   ]
  },
  {
   "cell_type": "markdown",
   "metadata": {},
   "source": [
    "This example comes from the ML.NET documentation: https://docs.microsoft.com/en-us/dotnet/api/microsoft.ml.conversionscatalog.mapkeytobinaryvector?view=ml-dotnet"
   ]
  },
  {
   "cell_type": "code",
   "execution_count": 2,
   "metadata": {},
   "outputs": [],
   "source": [
    "class DataPoint\n",
    "{\n",
    "    [KeyType(10)]\n",
    "    public uint Timeframe { get; set; }\n",
    "}\n",
    "\n",
    "class TransformedData : DataPoint\n",
    "{\n",
    "    public float[] TimeframeVector { get; set; }\n",
    "}"
   ]
  },
  {
   "cell_type": "code",
   "execution_count": 3,
   "metadata": {},
   "outputs": [],
   "source": [
    "var mlContext = new MLContext();"
   ]
  },
  {
   "cell_type": "code",
   "execution_count": 4,
   "metadata": {},
   "outputs": [],
   "source": [
    "var rawData = new[] {\n",
    "    new DataPoint() { Timeframe = 9 },\n",
    "    new DataPoint() { Timeframe = 8 },\n",
    "    new DataPoint() { Timeframe = 8 },\n",
    "    new DataPoint() { Timeframe = 9 },\n",
    "    new DataPoint() { Timeframe = 2 },\n",
    "    new DataPoint() { Timeframe = 3 }\n",
    "};"
   ]
  },
  {
   "cell_type": "code",
   "execution_count": 5,
   "metadata": {},
   "outputs": [],
   "source": [
    "var data = mlContext.Data.LoadFromEnumerable(rawData);"
   ]
  },
  {
   "cell_type": "code",
   "execution_count": 6,
   "metadata": {},
   "outputs": [],
   "source": [
    "var pipeline = mlContext.Transforms.Conversion.MapKeyToBinaryVector(\"TimeframeVector\", \"Timeframe\");"
   ]
  },
  {
   "cell_type": "code",
   "execution_count": 7,
   "metadata": {},
   "outputs": [],
   "source": [
    "IDataView transformedData = pipeline.Fit(data).Transform(data);"
   ]
  },
  {
   "cell_type": "code",
   "execution_count": 8,
   "metadata": {},
   "outputs": [
    {
     "data": {
      "text/html": [
       "<table><thead><tr><th><i>index</i></th><th>TimeframeVector</th><th>Timeframe</th></tr></thead><tbody><tr><td>0</td><td>[ 0, 1, 0, 0, 1 ]</td><td>10</td></tr><tr><td>1</td><td>[ 0, 1, 0, 0, 0 ]</td><td>9</td></tr><tr><td>2</td><td>[ 0, 1, 0, 0, 0 ]</td><td>9</td></tr><tr><td>3</td><td>[ 0, 1, 0, 0, 1 ]</td><td>10</td></tr><tr><td>4</td><td>[ 0, 0, 0, 1, 0 ]</td><td>3</td></tr><tr><td>5</td><td>[ 0, 0, 0, 1, 1 ]</td><td>4</td></tr></tbody></table>"
      ]
     },
     "execution_count": 8,
     "metadata": {},
     "output_type": "execute_result"
    }
   ],
   "source": [
    "mlContext.Data.CreateEnumerable<TransformedData>(transformedData, reuseRowObject: false)"
   ]
  }
 ],
 "metadata": {
  "kernelspec": {
   "display_name": ".NET (C#)",
   "language": "C#",
   "name": ".net-csharp"
  },
  "language_info": {
   "file_extension": ".cs",
   "mimetype": "text/x-csharp",
   "name": "C#",
   "pygments_lexer": "csharp",
   "version": "8.0"
  }
 },
 "nbformat": 4,
 "nbformat_minor": 4
}

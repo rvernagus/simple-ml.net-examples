{
 "cells": [
  {
   "cell_type": "code",
   "execution_count": 1,
   "metadata": {},
   "outputs": [
    {
     "data": {
      "text/html": [
       "Installed package Microsoft.ML version 1.5.5"
      ]
     },
     "metadata": {},
     "output_type": "display_data"
    }
   ],
   "source": [
    "#r \"nuget: Microsoft.ML\"\n",
    "using Microsoft.ML;\n",
    "using Microsoft.ML.Data;\n",
    "using System.Linq;\n",
    "using static Microsoft.ML.Transforms.NormalizingTransformer;"
   ]
  },
  {
   "cell_type": "markdown",
   "metadata": {},
   "source": [
    "This example comes from the ML.NET documentation: https://docs.microsoft.com/en-us/dotnet/api/microsoft.ml.normalizationcatalog.normalizesupervisedbinning?view=ml-dotnet"
   ]
  },
  {
   "cell_type": "code",
   "execution_count": 2,
   "metadata": {},
   "outputs": [],
   "source": [
    "class DataPoint\n",
    "{\n",
    "    [VectorType(4)]\n",
    "    public float[] Features { get; set; }\n",
    "\n",
    "    public string Bin { get; set; }\n",
    "}"
   ]
  },
  {
   "cell_type": "code",
   "execution_count": 3,
   "metadata": {},
   "outputs": [],
   "source": [
    "var mlContext = new MLContext();"
   ]
  },
  {
   "cell_type": "code",
   "execution_count": 4,
   "metadata": {},
   "outputs": [],
   "source": [
    "var samples = new List<DataPoint>()\n",
    "{\n",
    "    new DataPoint(){ Features = new float[4] { 8, 1, 3, 0}, Bin =\"Bin1\" },\n",
    "    new DataPoint(){ Features = new float[4] { 6, 2, 2, 1}, Bin =\"Bin2\" },\n",
    "    new DataPoint(){ Features = new float[4] { 5, 3, 0, 2}, Bin =\"Bin2\" },\n",
    "    new DataPoint(){ Features = new float[4] { 4,-8, 1, 3}, Bin =\"Bin3\" },\n",
    "    new DataPoint(){ Features = new float[4] { 2,-5,-1, 4}, Bin =\"Bin3\" }\n",
    "};"
   ]
  },
  {
   "cell_type": "code",
   "execution_count": 5,
   "metadata": {},
   "outputs": [],
   "source": [
    "var data = mlContext.Data.LoadFromEnumerable(samples);"
   ]
  },
  {
   "cell_type": "code",
   "execution_count": 6,
   "metadata": {},
   "outputs": [],
   "source": [
    "data = mlContext.Transforms.Conversion.MapValueToKey(\"Bin\").Fit(data).Transform(data);"
   ]
  },
  {
   "cell_type": "markdown",
   "metadata": {},
   "source": [
    "NormalizeSupervisedBinning normalizes the data by constructing bins based on correlation with the label column and produce output based on to which bin original value belong."
   ]
  },
  {
   "cell_type": "code",
   "execution_count": 7,
   "metadata": {},
   "outputs": [],
   "source": [
    "var normalize = mlContext.Transforms.NormalizeSupervisedBinning(\"Features\", labelColumnName: \"Bin\", mininimumExamplesPerBin: 1, fixZero: false);"
   ]
  },
  {
   "cell_type": "markdown",
   "metadata": {},
   "source": [
    "NormalizeSupervisedBinning normalizes the data by constructing bins based on correlation with the label column and produce output based on to which bin original value belong but make sure zero values would remain zero after normalization. Helps preserve sparsity."
   ]
  },
  {
   "cell_type": "code",
   "execution_count": 8,
   "metadata": {},
   "outputs": [],
   "source": [
    "var normalizeFixZero = mlContext.Transforms.NormalizeSupervisedBinning(\"Features\", labelColumnName: \"Bin\", mininimumExamplesPerBin: 1, fixZero: true);"
   ]
  },
  {
   "cell_type": "code",
   "execution_count": 9,
   "metadata": {},
   "outputs": [],
   "source": [
    "var normalizeTransform = normalize.Fit(data);\n",
    "var transformedData = normalizeTransform.Transform(data);\n",
    "var normalizeFixZeroTransform = normalizeFixZero.Fit(data);\n",
    "var fixZeroData = normalizeFixZeroTransform.Transform(data);"
   ]
  },
  {
   "cell_type": "code",
   "execution_count": 10,
   "metadata": {},
   "outputs": [
    {
     "data": {
      "text/html": [
       "<table><thead><tr><th><i>index</i></th><th>value</th></tr></thead><tbody><tr><td>0</td><td>[ 1, 0.5, 1, 0 ]</td></tr><tr><td>1</td><td>[ 0.5, 1, 0, 0.5 ]</td></tr><tr><td>2</td><td>[ 0.5, 1, 0, 0.5 ]</td></tr><tr><td>3</td><td>[ 0, 0, 0, 1 ]</td></tr><tr><td>4</td><td>[ 0, 0, 0, 1 ]</td></tr></tbody></table>"
      ]
     },
     "execution_count": 10,
     "metadata": {},
     "output_type": "execute_result"
    }
   ],
   "source": [
    "transformedData.GetColumn<float[]>(\"Features\")"
   ]
  },
  {
   "cell_type": "code",
   "execution_count": 11,
   "metadata": {},
   "outputs": [
    {
     "data": {
      "text/html": [
       "<table><thead><tr><th><i>index</i></th><th>value</th></tr></thead><tbody><tr><td>0</td><td>[ 1, 0, 1, 0 ]</td></tr><tr><td>1</td><td>[ 0.5, 0.5, 0, 0.5 ]</td></tr><tr><td>2</td><td>[ 0.5, 0.5, 0, 0.5 ]</td></tr><tr><td>3</td><td>[ 0, -0.5, 0, 1 ]</td></tr><tr><td>4</td><td>[ 0, -0.5, 0, 1 ]</td></tr></tbody></table>"
      ]
     },
     "execution_count": 11,
     "metadata": {},
     "output_type": "execute_result"
    }
   ],
   "source": [
    "fixZeroData.GetColumn<float[]>(\"Features\")"
   ]
  },
  {
   "cell_type": "markdown",
   "metadata": {},
   "source": [
    "Let's get transformation parameters. Since we work with only one column we need to pass 0 as parameter for GetNormalizerModelParameters. If we have multiple columns transformations we need to pass index of InputOutputColumnPair."
   ]
  },
  {
   "cell_type": "code",
   "execution_count": 12,
   "metadata": {},
   "outputs": [
    {
     "data": {
      "text/html": [
       "<table><thead><tr><th>UpperBounds</th><th>Density</th><th>Offset</th></tr></thead><tbody><tr><td>[ [ 4.5, 7, Infinity ], [ -2, 1.5, Infinity ], [ 2.5, Infinity ], [ 0.5, 2.5, Infinity ] ]</td><td>[ 2, 2, 1, 2 ]</td><td>[  ]</td></tr></tbody></table>"
      ]
     },
     "execution_count": 12,
     "metadata": {},
     "output_type": "execute_result"
    }
   ],
   "source": [
    "normalizeTransform.GetNormalizerModelParameters(0)"
   ]
  },
  {
   "cell_type": "code",
   "execution_count": 13,
   "metadata": {},
   "outputs": [
    {
     "data": {
      "text/html": [
       "<table><thead><tr><th>UpperBounds</th><th>Density</th><th>Offset</th></tr></thead><tbody><tr><td>[ [ 4.5, 7, Infinity ], [ -2, 1.5, Infinity ], [ 2.5, Infinity ], [ 0.5, 2.5, Infinity ] ]</td><td>[ 2, 2, 1, 2 ]</td><td>[ 0, 0.5, 0, 0 ]</td></tr></tbody></table>"
      ]
     },
     "execution_count": 13,
     "metadata": {},
     "output_type": "execute_result"
    }
   ],
   "source": [
    "normalizeFixZeroTransform.GetNormalizerModelParameters(0)"
   ]
  }
 ],
 "metadata": {
  "kernelspec": {
   "display_name": ".NET (C#)",
   "language": "C#",
   "name": ".net-csharp"
  },
  "language_info": {
   "file_extension": ".cs",
   "mimetype": "text/x-csharp",
   "name": "C#",
   "pygments_lexer": "csharp",
   "version": "8.0"
  }
 },
 "nbformat": 4,
 "nbformat_minor": 4
}

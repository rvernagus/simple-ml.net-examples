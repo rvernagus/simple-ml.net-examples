{
 "cells": [
  {
   "cell_type": "code",
   "execution_count": 1,
   "metadata": {},
   "outputs": [
    {
     "data": {
      "text/html": [
       "Installed package Microsoft.ML version 1.4.0"
      ]
     },
     "metadata": {},
     "output_type": "display_data"
    }
   ],
   "source": [
    "#r \"nuget: Microsoft.ML\"\n",
    "using Microsoft.ML;\n",
    "using System;\n",
    "using System.Linq;"
   ]
  },
  {
   "cell_type": "markdown",
   "metadata": {},
   "source": [
    "Create classes to map data to:"
   ]
  },
  {
   "cell_type": "code",
   "execution_count": 2,
   "metadata": {},
   "outputs": [],
   "source": [
    "class SourceData\n",
    "{\n",
    "    public DateTime Date { get; set; }\n",
    "}\n",
    "\n",
    "class MappedData\n",
    "{\n",
    "    public DateTime SourceDate { get; set; }\n",
    "    public int Month { get; set; }\n",
    "    public bool IsWeekend { get; set; }\n",
    "\n",
    "    public override string ToString() =>\n",
    "        $\"{SourceDate, 25} {Month, 5} {IsWeekend, 9}\";\n",
    "}"
   ]
  },
  {
   "cell_type": "markdown",
   "metadata": {},
   "source": [
    "Instantiate a new MLContext and create some sample data:"
   ]
  },
  {
   "cell_type": "code",
   "execution_count": 3,
   "metadata": {},
   "outputs": [],
   "source": [
    "var context = new MLContext();\n",
    "\n",
    "var data = new[]\n",
    "{\n",
    "    new SourceData { Date = DateTime.Parse(\"2019-08-20\") },\n",
    "    new SourceData { Date = DateTime.Parse(\"2019-07-06\") },\n",
    "    new SourceData { Date = DateTime.Parse(\"2019-06-16\") },\n",
    "    new SourceData { Date = DateTime.Parse(\"2019-05-14\") },\n",
    "};"
   ]
  },
  {
   "cell_type": "markdown",
   "metadata": {},
   "source": [
    "Create a new DataView from the sample data:"
   ]
  },
  {
   "cell_type": "code",
   "execution_count": 4,
   "metadata": {},
   "outputs": [],
   "source": [
    "var dataView = context.Data.LoadFromEnumerable<SourceData>(data);"
   ]
  },
  {
   "cell_type": "markdown",
   "metadata": {},
   "source": [
    "Here is where we define a CustomMapping to map from SourceData to MappedData:"
   ]
  },
  {
   "cell_type": "code",
   "execution_count": 5,
   "metadata": {},
   "outputs": [],
   "source": [
    "var encoder = context.Transforms.CustomMapping<SourceData, MappedData>((input, output) =>\n",
    "{\n",
    "    output.SourceDate = input.Date;\n",
    "    output.Month = input.Date.Month;\n",
    "    output.IsWeekend = input.Date.DayOfWeek == DayOfWeek.Saturday || input.Date.DayOfWeek == DayOfWeek.Sunday;\n",
    "}, \"MapDate\");"
   ]
  },
  {
   "cell_type": "markdown",
   "metadata": {},
   "source": [
    "Fit the encoder to our data:"
   ]
  },
  {
   "cell_type": "code",
   "execution_count": 6,
   "metadata": {},
   "outputs": [],
   "source": [
    "var transformer = encoder.Fit(dataView);"
   ]
  },
  {
   "cell_type": "markdown",
   "metadata": {},
   "source": [
    "Transform our data using the fitted transformer:"
   ]
  },
  {
   "cell_type": "code",
   "execution_count": 7,
   "metadata": {},
   "outputs": [],
   "source": [
    "var transformedDataView = transformer.Transform(dataView);"
   ]
  },
  {
   "cell_type": "markdown",
   "metadata": {},
   "source": [
    "Print our transformed data:"
   ]
  },
  {
   "cell_type": "code",
   "execution_count": 8,
   "metadata": {},
   "outputs": [
    {
     "name": "stdout",
     "output_type": "stream",
     "text": [
      "               SourceDate Month IsWeekend\n",
      "    8/20/2019 12:00:00 AM     8     False\n",
      "     7/6/2019 12:00:00 AM     7      True\n",
      "    6/16/2019 12:00:00 AM     6      True\n",
      "    5/14/2019 12:00:00 AM     5     False\n"
     ]
    }
   ],
   "source": [
    "Console.WriteLine($\"{\"SourceDate\", 25} {\"Month\", 5} {\"IsWeekend\", 9}\");\n",
    "var mappedData = context.Data.CreateEnumerable<MappedData>(transformedDataView, reuseRowObject: false);\n",
    "foreach (var item in mappedData)\n",
    "{\n",
    "    Console.WriteLine(item);\n",
    "}"
   ]
  },
  {
   "cell_type": "code",
   "execution_count": null,
   "metadata": {},
   "outputs": [],
   "source": []
  }
 ],
 "metadata": {
  "kernelspec": {
   "display_name": ".NET (C#)",
   "language": "C#",
   "name": ".net-csharp"
  },
  "language_info": {
   "file_extension": ".cs",
   "mimetype": "text/x-csharp",
   "name": "C#",
   "pygments_lexer": "csharp",
   "version": "8.0"
  }
 },
 "nbformat": 4,
 "nbformat_minor": 4
}

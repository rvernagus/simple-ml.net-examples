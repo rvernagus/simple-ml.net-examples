{
 "cells": [
  {
   "cell_type": "code",
   "execution_count": 1,
   "metadata": {},
   "outputs": [
    {
     "data": {
      "text/html": [
       "Installed package Microsoft.ML version 1.4.0"
      ]
     },
     "metadata": {},
     "output_type": "display_data"
    }
   ],
   "source": [
    "#r \"nuget: Microsoft.ML\"\n",
    "using Microsoft.ML;\n",
    "using Microsoft.ML.Data;\n",
    "using System;\n",
    "using System.Collections.Generic;\n",
    "using System.IO;\n",
    "using System.Linq;\n",
    "using System.Net;"
   ]
  },
  {
   "cell_type": "markdown",
   "metadata": {},
   "source": [
    "Create classes for loading and mapping data:"
   ]
  },
  {
   "cell_type": "code",
   "execution_count": 2,
   "metadata": {},
   "outputs": [],
   "source": [
    "class AdultData{\n",
    "    [LoadColumn(0)]\n",
    "    public float Age { get; set; }\n",
    "    [LoadColumn(1)]\n",
    "    public string WorkClass { get; set; }\n",
    "    [LoadColumn(2)]\n",
    "    public float Fnlwgt { get; set; }\n",
    "    [LoadColumn(3)]\n",
    "    public float Education { get; set; }\n",
    "    [LoadColumn(4)]\n",
    "    public float EducationNum { get; set; }\n",
    "    [LoadColumn(5)]\n",
    "    public float MaritalStatus { get; set; }\n",
    "    [LoadColumn(6)]\n",
    "    public float Occupation { get; set; }\n",
    "    [LoadColumn(7)]\n",
    "    public float Relationship { get; set; }\n",
    "    [LoadColumn(8)]\n",
    "    public string Race { get; set; }\n",
    "    [LoadColumn(9)]\n",
    "    public string Sex { get; set; }\n",
    "    [LoadColumn(10)]\n",
    "    public float CapitalGain { get; set; }\n",
    "    [LoadColumn(11)]\n",
    "    public float CapitalLoss { get; set; }\n",
    "    [LoadColumn(12)]\n",
    "    public float HoursPerWeek { get; set; }\n",
    "    [LoadColumn(13)]\n",
    "    public string NativeCountry { get; set; }\n",
    "    [LoadColumn(14)]\n",
    "    [ColumnName(\"Label\")]\n",
    "    public string Target { get; set; }\n",
    "}\n",
    "\n",
    "class LabelComparer\n",
    "{\n",
    "    public string Label { get; set; }\n",
    "    public bool EncodedLabel { get; set; }\n",
    "    public override string ToString() =>\n",
    "        $\"{Label} => {EncodedLabel}\";\n",
    "}"
   ]
  },
  {
   "cell_type": "markdown",
   "metadata": {},
   "source": [
    "Download data from [UCI Machine Learning Repository](https://archive.ics.uci.edu/ml/machine-learning-databases/adult):"
   ]
  },
  {
   "cell_type": "code",
   "execution_count": 3,
   "metadata": {},
   "outputs": [],
   "source": [
    "if (!File.Exists(\"adult.data\"))\n",
    "{\n",
    "    using var client = new WebClient();\n",
    "    client.DownloadFile(\"https://archive.ics.uci.edu/ml/machine-learning-databases/adult/adult.data\", \"adult.data\");\n",
    "}"
   ]
  },
  {
   "cell_type": "markdown",
   "metadata": {},
   "source": [
    "Instantiate a new MLContext:"
   ]
  },
  {
   "cell_type": "code",
   "execution_count": 4,
   "metadata": {},
   "outputs": [],
   "source": [
    "var context = new MLContext();"
   ]
  },
  {
   "cell_type": "markdown",
   "metadata": {},
   "source": [
    "Load data from file:"
   ]
  },
  {
   "cell_type": "code",
   "execution_count": 5,
   "metadata": {},
   "outputs": [],
   "source": [
    "var dataView = context.Data.LoadFromTextFile<AdultData>(\"adult.data\", hasHeader: false, separatorChar: ',');"
   ]
  },
  {
   "cell_type": "markdown",
   "metadata": {},
   "source": [
    "Create our mapping from labels to values:"
   ]
  },
  {
   "cell_type": "code",
   "execution_count": 6,
   "metadata": {},
   "outputs": [
    {
     "data": {
      "text/html": [
       "<table><thead><tr><th><i>key</i></th><th>value</th></tr></thead><tbody><tr><td><=50K</td><td>False</td></tr><tr><td><=50K.</td><td>False</td></tr><tr><td>>50K</td><td>True</td></tr><tr><td>>50K.</td><td>True</td></tr></tbody></table>"
      ]
     },
     "execution_count": 6,
     "metadata": {},
     "output_type": "execute_result"
    }
   ],
   "source": [
    "var labelLookup = new Dictionary<string, bool>\n",
    "{\n",
    "    [\"<=50K\"] = false,\n",
    "    [\"<=50K.\"] = false,\n",
    "    [\">50K\"] = true,\n",
    "    [\">50K.\"] = true,\n",
    "};\n",
    "labelLookup"
   ]
  },
  {
   "cell_type": "markdown",
   "metadata": {},
   "source": [
    "Create an encoder passing in the label-value mappings:"
   ]
  },
  {
   "cell_type": "code",
   "execution_count": 7,
   "metadata": {},
   "outputs": [],
   "source": [
    "var encoder = context.Transforms.Conversion.MapValue(inputColumnName: \"Label\", outputColumnName: \"EncodedLabel\", keyValuePairs: labelLookup);"
   ]
  },
  {
   "cell_type": "markdown",
   "metadata": {},
   "source": [
    "Fit the encoder to the data:"
   ]
  },
  {
   "cell_type": "code",
   "execution_count": 8,
   "metadata": {},
   "outputs": [],
   "source": [
    "var transformer = encoder.Fit(dataView);"
   ]
  },
  {
   "cell_type": "markdown",
   "metadata": {},
   "source": [
    "Transform the data using the encoder:"
   ]
  },
  {
   "cell_type": "code",
   "execution_count": 9,
   "metadata": {},
   "outputs": [],
   "source": [
    "var transformedDataView = transformer.Transform(dataView);"
   ]
  },
  {
   "cell_type": "markdown",
   "metadata": {},
   "source": [
    "Print our transformed data:"
   ]
  },
  {
   "cell_type": "code",
   "execution_count": 10,
   "metadata": {},
   "outputs": [
    {
     "data": {
      "text/html": [
       "<table><thead><tr><th><i>index</i></th><th>Label</th><th>EncodedLabel</th></tr></thead><tbody><tr><td>0</td><td>&lt;=50K</td><td>False</td></tr><tr><td>1</td><td>&lt;=50K</td><td>False</td></tr><tr><td>2</td><td>&lt;=50K</td><td>False</td></tr><tr><td>3</td><td>&lt;=50K</td><td>False</td></tr><tr><td>4</td><td>&lt;=50K</td><td>False</td></tr><tr><td>5</td><td>&lt;=50K</td><td>False</td></tr><tr><td>6</td><td>&lt;=50K</td><td>False</td></tr><tr><td>7</td><td>&gt;50K</td><td>True</td></tr><tr><td>8</td><td>&gt;50K</td><td>True</td></tr><tr><td>9</td><td>&gt;50K</td><td>True</td></tr></tbody></table>"
      ]
     },
     "execution_count": 10,
     "metadata": {},
     "output_type": "execute_result"
    }
   ],
   "source": [
    "context.Data.CreateEnumerable<LabelComparer>(transformedDataView, reuseRowObject: false).Take(10)"
   ]
  },
  {
   "cell_type": "code",
   "execution_count": null,
   "metadata": {},
   "outputs": [],
   "source": []
  }
 ],
 "metadata": {
  "kernelspec": {
   "display_name": ".NET (C#)",
   "language": "C#",
   "name": ".net-csharp"
  },
  "language_info": {
   "file_extension": ".cs",
   "mimetype": "text/x-csharp",
   "name": "C#",
   "pygments_lexer": "csharp",
   "version": "8.0"
  }
 },
 "nbformat": 4,
 "nbformat_minor": 4
}
